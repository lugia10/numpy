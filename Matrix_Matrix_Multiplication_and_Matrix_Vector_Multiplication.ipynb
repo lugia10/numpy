{
 "cells": [
  {
   "cell_type": "code",
   "execution_count": 3,
   "metadata": {},
   "outputs": [
    {
     "name": "stdout",
     "output_type": "stream",
     "text": [
      "[[100, 200], [50, 0], [350, 100]]\n",
      "<class 'list'>\n"
     ]
    }
   ],
   "source": [
    "gene0 = [100, 200]\n",
    "gene1 = [50, 0]\n",
    "gene2 = [350, 100]\n",
    "expression_data = [gene0, gene1, gene2]\n",
    "\n",
    "print(expression_data)\n",
    "print(type(expression_data))"
   ]
  },
  {
   "cell_type": "code",
   "execution_count": 12,
   "metadata": {},
   "outputs": [
    {
     "name": "stdout",
     "output_type": "stream",
     "text": [
      "[[100 200]\n",
      " [ 50   0]]\n",
      "<class 'numpy.ndarray'>\n"
     ]
    }
   ],
   "source": [
    "import numpy as np\n",
    "\n",
    "gene0 = [100, 200]\n",
    "gene1 = [50, 0]\n",
    "gene2 = [350, 100]\n",
    "\n",
    "A = np.array([gene0, gene1])\n",
    "B = np.array([gene0, gene2])\n",
    "\n",
    "print(A)\n",
    "print(type(A))"
   ]
  },
  {
   "cell_type": "code",
   "execution_count": 13,
   "metadata": {},
   "outputs": [
    {
     "name": "stdout",
     "output_type": "stream",
     "text": [
      "[[100  50]\n",
      " [200   0]]\n",
      "[[100  50]\n",
      " [200   0]]\n"
     ]
    }
   ],
   "source": [
    "print(A.T)\n",
    "print(np.transpose(A))"
   ]
  },
  {
   "cell_type": "code",
   "execution_count": 22,
   "metadata": {},
   "outputs": [
    {
     "name": "stdout",
     "output_type": "stream",
     "text": [
      "[0 1 2]\n",
      "[0 1 2]\n",
      "1\n"
     ]
    }
   ],
   "source": [
    "u = np.array([0, 1, 2])\n",
    "\n",
    "print(u)\n",
    "print(u.T)\n",
    "print(u.ndim)"
   ]
  },
  {
   "cell_type": "code",
   "execution_count": 24,
   "metadata": {},
   "outputs": [
    {
     "name": "stdout",
     "output_type": "stream",
     "text": [
      "[[0 1 2]]\n",
      "[[0]\n",
      " [1]\n",
      " [2]]\n",
      "2\n",
      "2\n"
     ]
    }
   ],
   "source": [
    "u = np.array([[0, 1, 2]])\n",
    "\n",
    "print(u)\n",
    "print(u.T)\n",
    "print(u.ndim)\n",
    "print(u.T.ndim)"
   ]
  },
  {
   "cell_type": "code",
   "execution_count": 25,
   "metadata": {},
   "outputs": [
    {
     "name": "stdout",
     "output_type": "stream",
     "text": [
      "[[ 0.     0.02 ]\n",
      " [ 0.005 -0.01 ]]\n",
      "[[  1.00000000e+00  -4.16333634e-17]\n",
      " [  0.00000000e+00   1.00000000e+00]]\n",
      "[[  1.00000000e+00   0.00000000e+00]\n",
      " [ -1.04083409e-17   1.00000000e+00]]\n"
     ]
    }
   ],
   "source": [
    "print(np.linalg.inv(A))\n",
    "print(A@np.linalg.inv(A))\n",
    "print(np.linalg.inv(A)@A)"
   ]
  },
  {
   "cell_type": "code",
   "execution_count": 16,
   "metadata": {},
   "outputs": [
    {
     "name": "stdout",
     "output_type": "stream",
     "text": [
      "[[80000 40000]\n",
      " [ 5000 10000]]\n",
      "[[80000 40000]\n",
      " [ 5000 10000]]\n",
      "[[80000 40000]\n",
      " [ 5000 10000]]\n"
     ]
    }
   ],
   "source": [
    "print(A@B)\n",
    "print(A.dot(B))\n",
    "print(np.matmul(A, B))"
   ]
  },
  {
   "cell_type": "code",
   "execution_count": 28,
   "metadata": {},
   "outputs": [
    {
     "name": "stdout",
     "output_type": "stream",
     "text": [
      "-10000.0\n",
      "5.05206097987\n",
      "(array([ 161.80339887,  -61.80339887]), array([[ 0.95542256, -0.77743752],\n",
      "       [ 0.29524181,  0.62896017]]))\n"
     ]
    }
   ],
   "source": [
    "print(np.linalg.det(A))\n",
    "print(np.linalg.cond(A))\n",
    "print(np.linalg.eig(A))"
   ]
  },
  {
   "cell_type": "code",
   "execution_count": 32,
   "metadata": {},
   "outputs": [
    {
     "name": "stdout",
     "output_type": "stream",
     "text": [
      "[ 161.80339887  -61.80339887]\n",
      "[[ 0.95542256 -0.77743752]\n",
      " [ 0.29524181  0.62896017]]\n"
     ]
    }
   ],
   "source": [
    "la, v = np.linalg.eig(A)\n",
    "print(la)\n",
    "print(v)"
   ]
  },
  {
   "cell_type": "markdown",
   "metadata": {},
   "source": [
    "$$\n",
    "{\\bf A}[{\\bf v}_1 {\\bf v}_2]\n",
    "=[\\lambda_1{\\bf v}_1 \\lambda_2{\\bf v}_2]\n",
    "=[{\\bf v}_1 {\\bf v}_2]\n",
    "\\left[\\begin{array}{cc}\n",
    "\\lambda_1&0\\\\\n",
    "0&\\lambda_2\n",
    "\\end{array}\\right]\n",
    "$$"
   ]
  },
  {
   "cell_type": "code",
   "execution_count": 39,
   "metadata": {},
   "outputs": [
    {
     "name": "stdout",
     "output_type": "stream",
     "text": [
      "[ 154.59061809   47.77112816]\n",
      "[ 154.59061809   47.77112816]\n",
      "[ 0.95542256  0.29524181]\n"
     ]
    }
   ],
   "source": [
    "print(A@v[:,0]) # v[:,0].ndim=1\n",
    "print(la[0]*v[:,0])"
   ]
  },
  {
   "cell_type": "code",
   "execution_count": 35,
   "metadata": {},
   "outputs": [
    {
     "name": "stdout",
     "output_type": "stream",
     "text": [
      "[ 48.04828145 -38.87187624]\n",
      "[ 48.04828145 -38.87187624]\n"
     ]
    }
   ],
   "source": [
    "print(A@v[:,1])\n",
    "print(la[1]*v[:,1])"
   ]
  },
  {
   "cell_type": "code",
   "execution_count": 38,
   "metadata": {},
   "outputs": [
    {
     "name": "stdout",
     "output_type": "stream",
     "text": [
      "[[ 154.59061809   48.04828145]\n",
      " [  47.77112816  -38.87187624]]\n",
      "[[ 154.59061809   48.04828145]\n",
      " [  47.77112816  -38.87187624]]\n"
     ]
    }
   ],
   "source": [
    "print(A@v)\n",
    "print(v@np.diag(la))"
   ]
  },
  {
   "cell_type": "code",
   "execution_count": null,
   "metadata": {},
   "outputs": [],
   "source": []
  }
 ],
 "metadata": {
  "kernelspec": {
   "display_name": "Python 3",
   "language": "python",
   "name": "python3"
  },
  "language_info": {
   "codemirror_mode": {
    "name": "ipython",
    "version": 3
   },
   "file_extension": ".py",
   "mimetype": "text/x-python",
   "name": "python",
   "nbconvert_exporter": "python",
   "pygments_lexer": "ipython3",
   "version": "3.6.8"
  }
 },
 "nbformat": 4,
 "nbformat_minor": 2
}
