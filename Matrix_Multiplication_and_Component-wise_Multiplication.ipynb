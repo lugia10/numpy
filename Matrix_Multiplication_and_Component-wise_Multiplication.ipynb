{
 "cells": [
  {
   "cell_type": "markdown",
   "metadata": {},
   "source": [
    "# Matrix Multiplication and Component-wise Multiplication"
   ]
  },
  {
   "cell_type": "markdown",
   "metadata": {},
   "source": [
    "# Matrix Multiplication"
   ]
  },
  {
   "cell_type": "code",
   "execution_count": 1,
   "metadata": {},
   "outputs": [
    {
     "name": "stdout",
     "output_type": "stream",
     "text": [
      "[[1.  0.1]\n",
      " [0.2 1. ]]\n",
      "\n",
      "[[1.  0.2]\n",
      " [0.1 1. ]]\n",
      "\n",
      "[[1.01 0.3 ]\n",
      " [0.3  1.04]]\n",
      "\n",
      "[[1.01 0.3 ]\n",
      " [0.3  1.04]]\n",
      "\n",
      "[[1.01 0.3 ]\n",
      " [0.3  1.04]]\n"
     ]
    }
   ],
   "source": [
    "# Matrix Multiplication\n",
    "\n",
    "import numpy as np\n",
    "\n",
    "A = np.array([[1,0.1], [0.2,1]])\n",
    "print(A)\n",
    "print()\n",
    "\n",
    "B = np.array([[1,0.2], [0.1,1]])\n",
    "print(B)\n",
    "print()\n",
    "\n",
    "C1 = A@B # matrix multiplication\n",
    "print(C1)\n",
    "print()\n",
    "\n",
    "C2 = A.dot(B) # matrix multiplication\n",
    "print(C2)\n",
    "print()\n",
    "\n",
    "C3 = np.dot(A,B) # matrix multiplication\n",
    "print(C3)"
   ]
  },
  {
   "cell_type": "markdown",
   "metadata": {},
   "source": [
    "# Component-wise Multiplication"
   ]
  },
  {
   "cell_type": "code",
   "execution_count": 2,
   "metadata": {},
   "outputs": [
    {
     "name": "stdout",
     "output_type": "stream",
     "text": [
      "[[1.  0.1]\n",
      " [0.2 1. ]]\n",
      "\n",
      "[[1.  0.2]\n",
      " [0.1 1. ]]\n",
      "\n",
      "[[1.   0.02]\n",
      " [0.02 1.  ]]\n"
     ]
    }
   ],
   "source": [
    "# Component-wise Multiplication\n",
    "\n",
    "import numpy as np\n",
    "\n",
    "A = np.array([[1,0.1], [0.2,1]])\n",
    "print(A)\n",
    "print()\n",
    "\n",
    "B = np.array([[1,0.2], [0.1,1]])\n",
    "print(B)\n",
    "print()\n",
    "\n",
    "C = A*B # component-wise multiplication\n",
    "print(C)"
   ]
  },
  {
   "cell_type": "markdown",
   "metadata": {},
   "source": [
    "$$\\int_0^1 x^3 dx$$"
   ]
  },
  {
   "cell_type": "code",
   "execution_count": 7,
   "metadata": {},
   "outputs": [
    {
     "name": "stdout",
     "output_type": "stream",
     "text": [
      "0.20250000000000007\n"
     ]
    },
    {
     "data": {
      "image/png": "[encoded data removed]",
      "text/plain": [
       "<Figure size 432x288 with 1 Axes>"
      ]
     },
     "metadata": {
      "needs_background": "light"
     },
     "output_type": "display_data"
    }
   ],
   "source": [
    "# computation of \\int_0^1 f(x) dx\n",
    "\n",
    "import numpy as np\n",
    "import matplotlib.pyplot as plt\n",
    "\n",
    "# function of interest\n",
    "def f(x):\n",
    "    return x**3\n",
    "\n",
    "# number of meshes \n",
    "n = 10\n",
    "\n",
    "# length of small interval when we split [0,1] into n small intervals\n",
    "dx = 1/n\n",
    "\n",
    "# x values where we evaluate function values\n",
    "x = np.linspace(0, 1, num=n, endpoint=False)\n",
    "\n",
    "# function values at x\n",
    "y = f(x)\n",
    "\n",
    "# compute numerical integral value\n",
    "numerical_integral_value = np.sum(y*dx) \n",
    "\n",
    "# print numerical integral value\n",
    "print(numerical_integral_value)\n",
    "\n",
    "# figure of y = f(x)\n",
    "x_figure = np.linspace(0,1)\n",
    "y_figure = f(x_figure)\n",
    "plt.plot(x_figure,y_figure,'-r')\n",
    "\n",
    "# figure of small boxes\n",
    "for i in range(n):\n",
    "    x_start = i*dx\n",
    "    x_end = x_start + dx\n",
    "    plt.plot([x_start,x_start],[0,f(x_start)],'--b')\n",
    "    plt.plot([x_end,x_end],[0,f(x_start)],'--b')\n",
    "    plt.plot([x_start,x_end],[0,0],'--b')\n",
    "    plt.plot([x_start,x_end],[f(x_start),f(x_start)],'--b')\n",
    "    \n",
    "# show figure    \n",
    "plt.show()"
   ]
  },
  {
   "cell_type": "markdown",
   "metadata": {},
   "source": [
    "$$\\int_0^1 (1+x)^3 cos(x) dx$$"
   ]
  },
  {
   "cell_type": "code",
   "execution_count": 4,
   "metadata": {},
   "outputs": [
    {
     "name": "stdout",
     "output_type": "stream",
     "text": [
      "2.7071073017107494\n"
     ]
    },
    {
     "data": {
      "image/png": "[encoded data removed]",
      "text/plain": [
       "<Figure size 432x288 with 1 Axes>"
      ]
     },
     "metadata": {
      "needs_background": "light"
     },
     "output_type": "display_data"
    }
   ],
   "source": [
    "# computation of \\int_0^1 f(x) dx\n",
    "\n",
    "import numpy as np\n",
    "import matplotlib.pyplot as plt\n",
    "\n",
    "# function of interest\n",
    "def f(x):\n",
    "    return (1+x)**3 * np.cos(x)\n",
    "\n",
    "# number of meshes \n",
    "n = 10\n",
    "\n",
    "# length of small interval when we split [0,1] into n small intervals\n",
    "dx = 1/n\n",
    "\n",
    "# x values where we evaluate function values\n",
    "x = np.linspace(0, 1, num=n, endpoint=False)\n",
    "\n",
    "# function values at x\n",
    "y = f(x)\n",
    "\n",
    "# compute numerical integral value\n",
    "numerical_integral_value = np.sum(y*dx) \n",
    "\n",
    "# print numerical integral value\n",
    "print(numerical_integral_value)\n",
    "\n",
    "# figure of y = f(x)\n",
    "x_figure = np.linspace(0,1)\n",
    "y_figure = f(x_figure)\n",
    "plt.plot(x_figure,y_figure,'-r')\n",
    "\n",
    "# figure of small boxes\n",
    "for i in range(n):\n",
    "    x_start = i*dx\n",
    "    x_end = x_start + dx\n",
    "    plt.plot([x_start,x_start],[0,f(x_start)],'--b')\n",
    "    plt.plot([x_end,x_end],[0,f(x_start)],'--b')\n",
    "    plt.plot([x_start,x_end],[0,0],'--b')\n",
    "    plt.plot([x_start,x_end],[f(x_start),f(x_start)],'--b')\n",
    "    \n",
    "# show figure    \n",
    "plt.show()"
   ]
  },
  {
   "cell_type": "markdown",
   "metadata": {},
   "source": [
    "$$\\int_0^1 (1+x)^3 e^x sin(x) dx$$"
   ]
  },
  {
   "cell_type": "code",
   "execution_count": 5,
   "metadata": {},
   "outputs": [
    {
     "name": "stdout",
     "output_type": "stream",
     "text": [
      "3.881804404036688\n"
     ]
    },
    {
     "data": {
      "image/png": "[encoded data removed]",
      "text/plain": [
       "<Figure size 432x288 with 1 Axes>"
      ]
     },
     "metadata": {
      "needs_background": "light"
     },
     "output_type": "display_data"
    }
   ],
   "source": [
    "# computation of \\int_0^1 f(x) dx\n",
    "\n",
    "import numpy as np\n",
    "import matplotlib.pyplot as plt\n",
    "\n",
    "# function of interest\n",
    "def f(x):\n",
    "    return (1+x)**3 * np.exp(x) * np.sin(x)\n",
    "\n",
    "# number of meshes \n",
    "n = 10\n",
    "\n",
    "# length of small interval when we split [0,1] into n small intervals\n",
    "dx = 1/n\n",
    "\n",
    "# x values where we evaluate function values\n",
    "x = np.linspace(0, 1, num=n, endpoint=False)\n",
    "\n",
    "# function values at x\n",
    "y = f(x)\n",
    "\n",
    "# compute numerical integral value\n",
    "numerical_integral_value = np.sum(y*dx) \n",
    "\n",
    "# print numerical integral value\n",
    "print(numerical_integral_value)\n",
    "\n",
    "# figure of y = f(x)\n",
    "x_figure = np.linspace(0,1)\n",
    "y_figure = f(x_figure)\n",
    "plt.plot(x_figure,y_figure,'-r')\n",
    "\n",
    "# figure of small boxes\n",
    "for i in range(n):\n",
    "    x_start = i*dx\n",
    "    x_end = x_start + dx\n",
    "    plt.plot([x_start,x_start],[0,f(x_start)],'--b')\n",
    "    plt.plot([x_end,x_end],[0,f(x_start)],'--b')\n",
    "    plt.plot([x_start,x_end],[0,0],'--b')\n",
    "    plt.plot([x_start,x_end],[f(x_start),f(x_start)],'--b')\n",
    "    \n",
    "# show figure    \n",
    "plt.show()"
   ]
  },
  {
   "cell_type": "markdown",
   "metadata": {},
   "source": [
    "$$\\int_0^1 x (1+x)^3 e^x sin(x) dx$$"
   ]
  },
  {
   "cell_type": "code",
   "execution_count": 6,
   "metadata": {},
   "outputs": [
    {
     "name": "stdout",
     "output_type": "stream",
     "text": [
      "2.866519992456959\n"
     ]
    },
    {
     "data": {
      "image/png": "[encoded data removed]",
      "text/plain": [
       "<Figure size 432x288 with 1 Axes>"
      ]
     },
     "metadata": {
      "needs_background": "light"
     },
     "output_type": "display_data"
    }
   ],
   "source": [
    "# computation of \\int_0^1 f(x) dx\n",
    "\n",
    "import numpy as np\n",
    "import matplotlib.pyplot as plt\n",
    "\n",
    "# function of interest\n",
    "def f(x):\n",
    "    return x * (1+x)**3 * np.exp(x) * np.sin(x)\n",
    "\n",
    "# number of meshes \n",
    "n = 10\n",
    "\n",
    "# length of small interval when we split [0,1] into n small intervals\n",
    "dx = 1/n\n",
    "\n",
    "# x values where we evaluate function values\n",
    "x = np.linspace(0, 1, num=n, endpoint=False)\n",
    "\n",
    "# function values at x\n",
    "y = f(x)\n",
    "\n",
    "# compute numerical integral value\n",
    "numerical_integral_value = np.sum(y*dx) \n",
    "\n",
    "# print numerical integral value\n",
    "print(numerical_integral_value)\n",
    "\n",
    "# figure of y = f(x)\n",
    "x_figure = np.linspace(0,1)\n",
    "y_figure = f(x_figure)\n",
    "plt.plot(x_figure,y_figure,'-r')\n",
    "\n",
    "# figure of small boxes\n",
    "for i in range(n):\n",
    "    x_start = i*dx\n",
    "    x_end = x_start + dx\n",
    "    plt.plot([x_start,x_start],[0,f(x_start)],'--b')\n",
    "    plt.plot([x_end,x_end],[0,f(x_start)],'--b')\n",
    "    plt.plot([x_start,x_end],[0,0],'--b')\n",
    "    plt.plot([x_start,x_end],[f(x_start),f(x_start)],'--b')\n",
    "    \n",
    "# show figure    \n",
    "plt.show()"
   ]
  },
  {
   "cell_type": "code",
   "execution_count": null,
   "metadata": {},
   "outputs": [],
   "source": []
  }
 ],
 "metadata": {
  "kernelspec": {
   "display_name": "Python 3",
   "language": "python",
   "name": "python3"
  },
  "language_info": {
   "codemirror_mode": {
    "name": "ipython",
    "version": 3
   },
   "file_extension": ".py",
   "mimetype": "text/x-python",
   "name": "python",
   "nbconvert_exporter": "python",
   "pygments_lexer": "ipython3",
   "version": "3.5.0"
  }
 },
 "nbformat": 4,
 "nbformat_minor": 2
}
