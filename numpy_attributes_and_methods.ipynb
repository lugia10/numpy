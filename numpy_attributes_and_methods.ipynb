{
 "cells": [
  {
   "cell_type": "code",
   "execution_count": 2,
   "metadata": {},
   "outputs": [
    {
     "name": "stdout",
     "output_type": "stream",
     "text": [
      "[1 2 3 4]\n",
      "<class 'numpy.ndarray'>\n",
      "(4,)\n",
      "1\n"
     ]
    }
   ],
   "source": [
    "import numpy as np\n",
    "\n",
    "a = np.array([1, 2, 3, 4])\n",
    "\n",
    "print(a)\n",
    "print(type(a))\n",
    "print(a.shape)\n",
    "print(a.ndim)"
   ]
  },
  {
   "cell_type": "code",
   "execution_count": 4,
   "metadata": {},
   "outputs": [
    {
     "name": "stdout",
     "output_type": "stream",
     "text": [
      "[[100 200]\n",
      " [ 50   0]\n",
      " [350 100]]\n",
      "<class 'numpy.ndarray'>\n",
      "(3, 2)\n",
      "2\n"
     ]
    }
   ],
   "source": [
    "import numpy as np\n",
    "\n",
    "gene0 = [100, 200]\n",
    "gene1 = [50, 0]\n",
    "gene2 = [350, 100]\n",
    "a = np.array([gene0, gene1, gene2])\n",
    "\n",
    "print(a)\n",
    "print(type(a))\n",
    "print(a.shape)\n",
    "print(a.ndim)"
   ]
  },
  {
   "cell_type": "code",
   "execution_count": 5,
   "metadata": {},
   "outputs": [
    {
     "name": "stdout",
     "output_type": "stream",
     "text": [
      "[[50000]\n",
      " [ 5000]]\n",
      "<class 'numpy.ndarray'>\n",
      "(2, 1)\n",
      "2\n"
     ]
    }
   ],
   "source": [
    "import numpy as np\n",
    "\n",
    "gene0 = [100, 200]\n",
    "gene1 = [50, 0]\n",
    "A = np.array([gene0, gene1]) # (2, 2)\n",
    "x = np.array(gene0).reshape((2,1)) # (2,) ---> (2, 1)\n",
    "Ax = A@x # (2, 1)\n",
    "\n",
    "print(Ax)\n",
    "print(type(Ax))\n",
    "print(Ax.shape)\n",
    "print(Ax.ndim)"
   ]
  },
  {
   "cell_type": "code",
   "execution_count": 6,
   "metadata": {},
   "outputs": [
    {
     "name": "stdout",
     "output_type": "stream",
     "text": [
      "[50000  5000]\n",
      "<class 'numpy.ndarray'>\n",
      "(2,)\n",
      "1\n"
     ]
    }
   ],
   "source": [
    "import numpy as np\n",
    "\n",
    "gene0 = [100, 200]\n",
    "gene1 = [50, 0]\n",
    "A = np.array([gene0, gene1]) # (2, 2)\n",
    "x = np.array(gene0) # (2,) \n",
    "Ax = A@x # (2, 1)\n",
    "\n",
    "print(Ax)\n",
    "print(type(Ax))\n",
    "print(Ax.shape)\n",
    "print(Ax.ndim)"
   ]
  },
  {
   "cell_type": "code",
   "execution_count": null,
   "metadata": {},
   "outputs": [],
   "source": []
  }
 ],
 "metadata": {
  "kernelspec": {
   "display_name": "Python 3",
   "language": "python",
   "name": "python3"
  },
  "language_info": {
   "codemirror_mode": {
    "name": "ipython",
    "version": 3
   },
   "file_extension": ".py",
   "mimetype": "text/x-python",
   "name": "python",
   "nbconvert_exporter": "python",
   "pygments_lexer": "ipython3",
   "version": "3.6.8"
  }
 },
 "nbformat": 4,
 "nbformat_minor": 2
}
