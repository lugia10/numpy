{
 "cells": [
  {
   "cell_type": "code",
   "execution_count": 1,
   "metadata": {},
   "outputs": [
    {
     "name": "stdout",
     "output_type": "stream",
     "text": [
      "[1 2 3]\n",
      "[1 2]\n",
      "[6 2]\n",
      "[6 2 3]\n"
     ]
    }
   ],
   "source": [
    "import numpy as np\n",
    "\n",
    "# Create an ndarray x\n",
    "x = np.array([1, 2, 3], np.int32)\n",
    "print(x)\n",
    "\n",
    "# Create a \"slice\" of x\n",
    "y = x[:2]\n",
    "print(y)\n",
    "\n",
    "# Set the first element of y to be 6\n",
    "y[0] = 6\n",
    "print(y)\n",
    "\n",
    "# Now the first element in x has changed to 6!\n",
    "print(x)"
   ]
  },
  {
   "cell_type": "code",
   "execution_count": 2,
   "metadata": {},
   "outputs": [
    {
     "name": "stdout",
     "output_type": "stream",
     "text": [
      "[1, 2, 3]\n",
      "[1, 2]\n",
      "[6, 2]\n",
      "[1, 2, 3]\n"
     ]
    }
   ],
   "source": [
    "# Create an ndarray x\n",
    "x = [1, 2, 3]\n",
    "print(x)\n",
    "\n",
    "# Create a \"slice\" of x\n",
    "y = x[:2]\n",
    "print(y)\n",
    "\n",
    "# Set the first element of y to be 6\n",
    "y[0] = 6\n",
    "print(y)\n",
    "\n",
    "# Now the first element in x has changed to 6!\n",
    "print(x)"
   ]
  },
  {
   "cell_type": "code",
   "execution_count": 3,
   "metadata": {},
   "outputs": [
    {
     "name": "stdout",
     "output_type": "stream",
     "text": [
      "[1 2 3]\n",
      "[1 2]\n",
      "[6 2]\n",
      "[1 2 3]\n"
     ]
    }
   ],
   "source": [
    "import numpy as np\n",
    "\n",
    "# Create an ndarray x\n",
    "x = np.array([1, 2, 3], np.int32)\n",
    "print(x)\n",
    "\n",
    "# Create a \"slice\" of x\n",
    "y = np.copy(x[:2])\n",
    "print(y)\n",
    "\n",
    "# Set the first element of y to be 6\n",
    "y[0] = 6\n",
    "print(y)\n",
    "\n",
    "# Now the first element in x has changed to 6!\n",
    "print(x)"
   ]
  },
  {
   "cell_type": "code",
   "execution_count": null,
   "metadata": {},
   "outputs": [],
   "source": []
  }
 ],
 "metadata": {
  "kernelspec": {
   "display_name": "Python 3",
   "language": "python",
   "name": "python3"
  },
  "language_info": {
   "codemirror_mode": {
    "name": "ipython",
    "version": 3
   },
   "file_extension": ".py",
   "mimetype": "text/x-python",
   "name": "python",
   "nbconvert_exporter": "python",
   "pygments_lexer": "ipython3",
   "version": "3.6.8"
  }
 },
 "nbformat": 4,
 "nbformat_minor": 2
}
