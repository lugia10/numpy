{
 "cells": [
  {
   "cell_type": "markdown",
   "metadata": {},
   "source": [
    "[Corey_Schafer](https://www.youtube.com/watch?v=KzqSDvzOFNA&list=PL-osiE80TeTt2d9bfVyTiXJA-UTHn6WwU&index=27)\n",
    "[np.random](https://docs.scipy.org/doc/numpy-1.15.1/reference/routines.random.html)"
   ]
  },
  {
   "cell_type": "code",
   "execution_count": 12,
   "metadata": {},
   "outputs": [
    {
     "name": "stdout",
     "output_type": "stream",
     "text": [
      "[6, 4, 1, 2, 3, 5]\n"
     ]
    },
    {
     "data": {
      "image/png": "[encoded data removed]",
      "text/plain": [
       "<Figure size 432x288 with 1 Axes>"
      ]
     },
     "metadata": {
      "needs_background": "light"
     },
     "output_type": "display_data"
    }
   ],
   "source": [
    "import numpy as np\n",
    "import matplotlib.pyplot as plt\n",
    "\n",
    "np.random.seed(337)\n",
    "\n",
    "if 0:\n",
    "    mu = 0\n",
    "    sigma = 1\n",
    "    x = np.random.normal(mu, sigma, size=(1000,))\n",
    "elif 0:\n",
    "    a = 0\n",
    "    b = 1\n",
    "    x = np.random.uniform(a, b, size=(1000,))\n",
    "elif 0:\n",
    "    n = 10\n",
    "    p = 0.5\n",
    "    x = np.random.binomial(n, p, size=(1000,))\n",
    "elif 0:\n",
    "    p = 0.5\n",
    "    x = np.random.geometric(p, size=(1000,))\n",
    "elif 0:\n",
    "    la = 10\n",
    "    x = np.random.poisson(la, size=(1000,))\n",
    "elif 0:\n",
    "    bt = 1/10 # bt = 1/la\n",
    "    x = np.random.exponential(bt, size=(1000,))\n",
    "elif 0:\n",
    "    x_values = [ -3,  -1,   1,   2,   5]\n",
    "    pmf = [0.1, 0.1, 0.1, 0.5, 0.2]\n",
    "    x = np.random.choice(x_values, p=pmf, size=(1000,)) \n",
    "elif 1:\n",
    "    # https://docs.scipy.org/doc/numpy-1.15.1/reference/routines.random.html\n",
    "    # shuffle(x) modify a sequence in-place by shuffling its contents.\n",
    "    x = [1,2,3,4,5,6] \n",
    "    np.random.shuffle(x)\n",
    "    print(x)\n",
    "\n",
    "plt.hist(x)\n",
    "plt.show()"
   ]
  },
  {
   "cell_type": "markdown",
   "metadata": {},
   "source": [
    "# np.random.choice vs random.choice"
   ]
  },
  {
   "cell_type": "markdown",
   "metadata": {},
   "source": [
    "##### 2D Simple Random Walk"
   ]
  },
  {
   "cell_type": "markdown",
   "metadata": {},
   "source": [
    "$$\n",
    "S_n=\\sum_{i=1}^nX_i\n",
    "$$\n",
    "where $X_i$ are iid with\n",
    "$$\n",
    "X_i=\\left\\{\\begin{array}{rl}\n",
    "[ 0,  1]&\\mbox{with probability 0.25}\\\\\n",
    "[ 1,  0]&\\mbox{with probability 0.25}\\\\\n",
    "[-1,  0]&\\mbox{with probability 0.25}\\\\\n",
    "[ 0, -1]&\\mbox{with probability 0.25}\n",
    "\\end{array}\\right.\n",
    "$$"
   ]
  },
  {
   "cell_type": "code",
   "execution_count": 13,
   "metadata": {},
   "outputs": [
    {
     "data": {
      "image/png": "[encoded data removed]",
      "text/plain": [
       "<Figure size 432x288 with 1 Axes>"
      ]
     },
     "metadata": {
      "needs_background": "light"
     },
     "output_type": "display_data"
    }
   ],
   "source": [
    "# 2D Simple Random Walk Simulation\n",
    "\n",
    "import numpy as np\n",
    "import matplotlib.pyplot as plt\n",
    "import random\n",
    "\n",
    "random.seed(337)\n",
    "\n",
    "N_STEPS = 100 # number of steps in simulation\n",
    "\n",
    "# define NEWS steps\n",
    "N = [ 0,  1]\n",
    "E = [ 1,  0]\n",
    "W = [-1,  0]\n",
    "S = [ 0, -1]\n",
    "\n",
    "# 2D simple random walk\n",
    "x = [0]\n",
    "y = [0]\n",
    "for step in range(N_STEPS):\n",
    "    dx, dy = random.choice([N, E, W, S])\n",
    "    x.append(x[-1]+dx)\n",
    "    y.append(y[-1]+dy)\n",
    "\n",
    "# plot of 2D simple random walk\n",
    "plt.plot(x, y, '-')\n",
    "plt.axis([-1.5*np.sqrt(N_STEPS), 1.5*np.sqrt(N_STEPS), -1.5*np.sqrt(N_STEPS), 1.5*np.sqrt(N_STEPS)])\n",
    "plt.grid(True)\n",
    "plt.show()"
   ]
  },
  {
   "cell_type": "code",
   "execution_count": null,
   "metadata": {},
   "outputs": [],
   "source": []
  }
 ],
 "metadata": {
  "kernelspec": {
   "display_name": "Python [default]",
   "language": "python",
   "name": "python3"
  },
  "language_info": {
   "codemirror_mode": {
    "name": "ipython",
    "version": 3
   },
   "file_extension": ".py",
   "mimetype": "text/x-python",
   "name": "python",
   "nbconvert_exporter": "python",
   "pygments_lexer": "ipython3",
   "version": "3.5.0"
  }
 },
 "nbformat": 4,
 "nbformat_minor": 2
}
