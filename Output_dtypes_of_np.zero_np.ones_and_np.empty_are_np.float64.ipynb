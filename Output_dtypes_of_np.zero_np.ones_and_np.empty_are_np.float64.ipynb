{
 "cells": [
  {
   "cell_type": "markdown",
   "metadata": {},
   "source": [
    "# Output dtypes of np.zeros, np.ones, and np.empty are np.float64"
   ]
  },
  {
   "cell_type": "code",
   "execution_count": 8,
   "metadata": {},
   "outputs": [
    {
     "name": "stdout",
     "output_type": "stream",
     "text": [
      "int32\n"
     ]
    }
   ],
   "source": [
    "import numpy as np\n",
    "\n",
    "if 0:\n",
    "    x = np.zeros((2,3))\n",
    "elif 0:\n",
    "    x = np.zeros((2,3), dtype=np.int32)\n",
    "elif 1:\n",
    "    x = np.zeros((2,3)).astype(np.int32)\n",
    "\n",
    "print(x.dtype)"
   ]
  },
  {
   "cell_type": "code",
   "execution_count": 5,
   "metadata": {},
   "outputs": [
    {
     "name": "stdout",
     "output_type": "stream",
     "text": [
      "int32\n"
     ]
    }
   ],
   "source": [
    "import numpy as np\n",
    "\n",
    "if 0:\n",
    "    x = np.ones((2,3))\n",
    "elif 1:\n",
    "    x = np.ones((2,3), dtype=np.int32)\n",
    "elif 1:\n",
    "    x = np.ones((2,3)).astype(np.int32)\n",
    "\n",
    "print(x.dtype)"
   ]
  },
  {
   "cell_type": "code",
   "execution_count": 7,
   "metadata": {},
   "outputs": [
    {
     "name": "stdout",
     "output_type": "stream",
     "text": [
      "int32\n"
     ]
    }
   ],
   "source": [
    "import numpy as np\n",
    "\n",
    "if 0:\n",
    "    x = np.empty((2,3))\n",
    "elif 1:\n",
    "    x = np.empty((2,3), dtype=np.int32)\n",
    "elif 1:\n",
    "    x = np.empty((2,3)).astype(np.int32)\n",
    "\n",
    "print(x.dtype)"
   ]
  },
  {
   "cell_type": "code",
   "execution_count": null,
   "metadata": {},
   "outputs": [],
   "source": []
  }
 ],
 "metadata": {
  "kernelspec": {
   "display_name": "Python 3",
   "language": "python",
   "name": "python3"
  },
  "language_info": {
   "codemirror_mode": {
    "name": "ipython",
    "version": 3
   },
   "file_extension": ".py",
   "mimetype": "text/x-python",
   "name": "python",
   "nbconvert_exporter": "python",
   "pygments_lexer": "ipython3",
   "version": "3.5.0"
  }
 },
 "nbformat": 4,
 "nbformat_minor": 2
}
