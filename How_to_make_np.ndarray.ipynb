{
 "cells": [
  {
   "cell_type": "markdown",
   "metadata": {},
   "source": [
    "# How to make np.ndarray"
   ]
  },
  {
   "cell_type": "markdown",
   "metadata": {
    "collapsed": true
   },
   "source": [
    "codebasics [youtube](https://www.youtube.com/watch?v=rN0TREj8G7U)"
   ]
  },
  {
   "cell_type": "markdown",
   "metadata": {},
   "source": [
    "<div align=\"center\"><img src=\"img/Screen Shot 2018-08-08 at 3.55.26 PM.png\" width=\"70%\"></div>\n",
    "\n",
    "Joe_James \n",
    "[youtube](https://www.youtube.com/watch?v=e60ItwlZTKM&t=18s) \n",
    "[github](https://github.com/joeyajames/Python)"
   ]
  },
  {
   "cell_type": "markdown",
   "metadata": {},
   "source": [
    "# np.ndarray 만드는 방법"
   ]
  },
  {
   "cell_type": "code",
   "execution_count": 39,
   "metadata": {},
   "outputs": [
    {
     "name": "stdout",
     "output_type": "stream",
     "text": [
      "[[7. 7.]\n",
      " [7. 7.]]\n",
      "<class 'numpy.ndarray'>\n",
      "float64\n",
      "(2, 2)\n"
     ]
    }
   ],
   "source": [
    "import numpy as np\n",
    "\n",
    "if 0:\n",
    "    a = np.array([0,1,2,3,4,5,6,7,8,9])\n",
    "elif 0:\n",
    "    a = np.array([[-1., -0.6, -0.2], [0.2, 0.6, 1.]])\n",
    "elif 0:\n",
    "    a = np.arange(10)\n",
    "elif 0:\n",
    "    a = np.linspace(1,10)\n",
    "elif 0:\n",
    "    a = np.zeros((3,4))\n",
    "elif 0:\n",
    "    a = np.ones((3,4))\n",
    "elif 0:\n",
    "    a = np.empty((3,4))\n",
    "elif 0:\n",
    "    u = np.array([[-1., -0.6, -0.2], [0.2, 0.6, 1.]])\n",
    "    a = np.zeros_like(u)\n",
    "elif 0:\n",
    "    u = np.array([[-1., -0.6, -0.2], [0.2, 0.6, 1.]])\n",
    "    a = np.ones_like(u)\n",
    "elif 0:\n",
    "    u = np.array([[-1., -0.6, -0.2], [0.2, 0.6, 1.]])\n",
    "    a = np.empty_like(u)\n",
    "elif 0:\n",
    "    a = np.eye(2)\n",
    "elif 0:\n",
    "    a = np.eye(2,3)\n",
    "elif 0:\n",
    "    a = np.diag([1,2,3])\n",
    "elif 1:\n",
    "    a = np.full((2, 2), 7.)\n",
    "\n",
    "print(a)\n",
    "print(type(a))\n",
    "print(a.dtype)\n",
    "print(a.shape)"
   ]
  },
  {
   "cell_type": "markdown",
   "metadata": {},
   "source": [
    "# np.ndarray는 list와 매우 비슷하다"
   ]
  },
  {
   "cell_type": "code",
   "execution_count": 23,
   "metadata": {},
   "outputs": [
    {
     "name": "stdout",
     "output_type": "stream",
     "text": [
      "[0 1 2 3 4 5 6 7 8 9]\n",
      "0\n",
      "1\n",
      "[3 4 5 6]\n"
     ]
    }
   ],
   "source": [
    "import numpy as np \n",
    "\n",
    "a = np.array([0,1,2,3,4,5,6,7,8,9])\n",
    "\n",
    "print(a)\n",
    "print(a[0])\n",
    "print(a[1])\n",
    "print(a[3:7])"
   ]
  }
 ],
 "metadata": {
  "kernelspec": {
   "display_name": "Python 3",
   "language": "python",
   "name": "python3"
  },
  "language_info": {
   "codemirror_mode": {
    "name": "ipython",
    "version": 3
   },
   "file_extension": ".py",
   "mimetype": "text/x-python",
   "name": "python",
   "nbconvert_exporter": "python",
   "pygments_lexer": "ipython3",
   "version": "3.5.0"
  }
 },
 "nbformat": 4,
 "nbformat_minor": 2
}
