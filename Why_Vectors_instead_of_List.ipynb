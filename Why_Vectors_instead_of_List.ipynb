{
 "cells": [
  {
   "cell_type": "markdown",
   "metadata": {},
   "source": [
    "# Why Vectors instead of List"
   ]
  },
  {
   "cell_type": "markdown",
   "metadata": {},
   "source": [
    "James [youtube](https://www.youtube.com/watch?v=8Mpc9ukltVA&t=316s)\n",
    "codebasics [youtube](https://www.youtube.com/watch?v=rN0TREj8G7U)"
   ]
  },
  {
   "cell_type": "markdown",
   "metadata": {},
   "source": [
    "<div align=\"center\"><img src=\"img/Screen Shot 2018-08-05 at 1.39.43 PM.png\" width=\"70%\"></div>\n",
    "\n",
    "James [youtube](https://www.youtube.com/watch?v=8Mpc9ukltVA&t=316s)"
   ]
  },
  {
   "cell_type": "markdown",
   "metadata": {},
   "source": [
    "<div align=\"center\"><img src=\"img/Screen Shot 2018-08-05 at 1.52.39 PM.png\" width=\"70%\"></div>\n",
    "\n",
    "James [youtube](https://www.youtube.com/watch?v=8Mpc9ukltVA&t=316s)"
   ]
  },
  {
   "cell_type": "markdown",
   "metadata": {},
   "source": [
    "# 타이핑을 적게한다"
   ]
  },
  {
   "cell_type": "code",
   "execution_count": 1,
   "metadata": {},
   "outputs": [
    {
     "name": "stdout",
     "output_type": "stream",
     "text": [
      "[5 7 9]\n"
     ]
    }
   ],
   "source": [
    "# numpy implementaion of vector addition a + b\n",
    "\n",
    "import numpy as np\n",
    "\n",
    "a = np.array([1,2,3])\n",
    "b = np.array([4,5,6])\n",
    "\n",
    "c = a + b\n",
    "\n",
    "print(c)"
   ]
  },
  {
   "cell_type": "code",
   "execution_count": 18,
   "metadata": {},
   "outputs": [
    {
     "name": "stdout",
     "output_type": "stream",
     "text": [
      "[1, 2, 3, 4, 5, 6]\n"
     ]
    }
   ],
   "source": [
    "# failed list implementaion of vector addition a + b\n",
    "\n",
    "a = [1,2,3]\n",
    "b = [4,5,6]\n",
    "\n",
    "c = a + b\n",
    "\n",
    "print(c)"
   ]
  },
  {
   "cell_type": "code",
   "execution_count": 21,
   "metadata": {},
   "outputs": [
    {
     "name": "stdout",
     "output_type": "stream",
     "text": [
      "[5, 7, 9]\n"
     ]
    }
   ],
   "source": [
    "# list implementaion of vector addition a + b\n",
    "\n",
    "a = [1,2,3]\n",
    "b = [4,5,6]\n",
    "\n",
    "c = []\n",
    "for i in range(len(a)):\n",
    "    c.append(a[i]+b[i])\n",
    "\n",
    "print(c)"
   ]
  },
  {
   "cell_type": "code",
   "execution_count": 4,
   "metadata": {},
   "outputs": [
    {
     "name": "stdout",
     "output_type": "stream",
     "text": [
      "[5, 7, 9]\n"
     ]
    }
   ],
   "source": [
    "# list comprehension implementaion of vector addition a + b\n",
    "\n",
    "a = [1,2,3]\n",
    "b = [4,5,6]\n",
    "\n",
    "c = [x + y for x, y in zip(a,b)]\n",
    "\n",
    "print(c)"
   ]
  },
  {
   "cell_type": "markdown",
   "metadata": {},
   "source": [
    "# 계산속도가 빠르다"
   ]
  },
  {
   "cell_type": "markdown",
   "metadata": {},
   "source": [
    "$$\\sum_{k=1}^n k$$"
   ]
  },
  {
   "cell_type": "code",
   "execution_count": 5,
   "metadata": {},
   "outputs": [
    {
     "name": "stdout",
     "output_type": "stream",
     "text": [
      "Computing Time   :  0.09794807434082031\n",
      "Computing Result :  500000500000\n"
     ]
    }
   ],
   "source": [
    "# computation using for loop\n",
    "\n",
    "import time\n",
    "\n",
    "n = 1000000\n",
    "\n",
    "tic = time.time()\n",
    "temp = 0\n",
    "for i in range(1,n+1):\n",
    "    temp += i\n",
    "toc = time.time()\n",
    "\n",
    "print('Computing Time   : ', toc-tic)\n",
    "print('Computing Result : ', temp)"
   ]
  },
  {
   "cell_type": "code",
   "execution_count": 6,
   "metadata": {},
   "outputs": [
    {
     "name": "stdout",
     "output_type": "stream",
     "text": [
      "Computing Time   :  0.003911018371582031\n",
      "Computing Result :  500000500000\n"
     ]
    }
   ],
   "source": [
    "# computation without using for loop, i.e., vectorization\n",
    "\n",
    "import numpy as np\n",
    "import time\n",
    "\n",
    "n = 1000000\n",
    "\n",
    "tic = time.time()\n",
    "x = np.arange(1,n+1)\n",
    "temp = np.sum(x)\n",
    "toc = time.time()\n",
    "\n",
    "print('Computing Time   : ', toc-tic)\n",
    "print('Computing Result : ', temp)"
   ]
  },
  {
   "cell_type": "code",
   "execution_count": 7,
   "metadata": {},
   "outputs": [
    {
     "name": "stdout",
     "output_type": "stream",
     "text": [
      "Computing Time   :  0.0102081298828125\n",
      "Computing Result :  500000500000\n"
     ]
    }
   ],
   "source": [
    "# computation using list\n",
    "\n",
    "import time\n",
    "\n",
    "n = 1000000\n",
    "\n",
    "x = [i for i in range(1,n+1)] # we give some advantages to this method\n",
    "tic = time.time()\n",
    "temp = sum(x)\n",
    "toc = time.time()\n",
    "\n",
    "print('Computing Time   : ', toc-tic)\n",
    "print('Computing Result : ', temp)"
   ]
  },
  {
   "cell_type": "markdown",
   "metadata": {},
   "source": [
    "# 메모리를 적게 사용한다"
   ]
  },
  {
   "cell_type": "markdown",
   "metadata": {},
   "source": [
    "사용하는 메모리를 측정하기위하여, 우선 memory_profiler를 pip을 이용 설치하자.\n",
    "터미널을 열고 `pip install memory_profiler`이라고 치고 리턴 키를 누르면 된다."
   ]
  },
  {
   "cell_type": "code",
   "execution_count": 8,
   "metadata": {},
   "outputs": [
    {
     "name": "stdout",
     "output_type": "stream",
     "text": [
      "peak memory: 145.39 MiB, increment: 23.61 MiB\n"
     ]
    }
   ],
   "source": [
    "# memory_profiler is package to measure memory usuage\n",
    "# using pip, install the package if you don't have \n",
    "# $ pip install memory_profiler\n",
    "\n",
    "n = 1000000\n",
    "\n",
    "# load memory_profiler\n",
    "%load_ext memory_profiler \n",
    "\n",
    "# measure memory usuage when we construct this list\n",
    "%memit [i for i in range(1,n+1)] "
   ]
  },
  {
   "cell_type": "code",
   "execution_count": 9,
   "metadata": {},
   "outputs": [
    {
     "name": "stdout",
     "output_type": "stream",
     "text": [
      "peak memory: 124.83 MiB, increment: 7.14 MiB\n"
     ]
    }
   ],
   "source": [
    "import numpy as np\n",
    "\n",
    "n = 1000000\n",
    "\n",
    "# reload memory_profiler when we already load memory_profiler\n",
    "%reload_ext memory_profiler\n",
    "\n",
    "# measure memory usuage when we construct this np.ndarray\n",
    "%memit np.arange(1,n+1)"
   ]
  },
  {
   "cell_type": "markdown",
   "metadata": {},
   "source": [
    "Peak memory refers to the peak memory usage of your system (including memory usage of other processes) during the program runtime.\n",
    "\n",
    "Increment is the increment in memory usage relative to the memory usage just before the program is run (i.e. increment = peak memory - starting memory).\n",
    "\n",
    "So you'd report increment. Peak memory just helps you figure how close you are to using all your RAM during a program run.\n",
    "\n",
    "https://stackoverflow.com/questions/45318536/trying-to-understand-python-memory-profiler"
   ]
  },
  {
   "cell_type": "markdown",
   "metadata": {},
   "source": [
    "list는 여러가지 다양한 형태의 데이타를 담을 수 있지만,\n",
    "np.ndarray는 한 종류의 데이타 만을 담을 수 있다.\n",
    "list는 여러가지 다양한 형태의 데이타를 담기 때문에 \n",
    "각각의 데이타를 담을 때 추가적으로 이 데이타가 어떤 형태의 데이타인지를 설명하는 메타 데이타가 들어간다.\n",
    "이와는 대조적으로\n",
    "np.ndarray는 한 종류의 데이타 만을 담기 때문에\n",
    "각각의 데이타에 메타 데이타가 들어가는 것이 아니고\n",
    "통으로 하나의 메타 데이타가 들어간다.\n",
    "이것이 np.ndarray가 list에 비하여 메모리를 적게 사용하는 이유다."
   ]
  },
  {
   "cell_type": "code",
   "execution_count": 22,
   "metadata": {},
   "outputs": [
    {
     "name": "stdout",
     "output_type": "stream",
     "text": [
      "Essential Memory Usage of one item in list       :         28 Bytes\n",
      "Essential Memory Usage of one item in np.ndarray :          8 Bytes\n",
      "\n",
      "Essential Memory Usage of list       :   28000000 Bytes\n",
      "Essential Memory Usage of np.ndarray :    8000000 Bytes\n"
     ]
    }
   ],
   "source": [
    "import numpy as np\n",
    "import sys\n",
    "\n",
    "n = 1000000\n",
    "temp_1 = [i for i in range(1,n+1)]\n",
    "temp_2 = np.arange(1,n+1)\n",
    "\n",
    "m1 = sys.getsizeof(1000000) \n",
    "m2 = temp_2.itemsize \n",
    "print(\"Essential Memory Usage of one item in list       : {:>10} Bytes\".format(m1))\n",
    "print(\"Essential Memory Usage of one item in np.ndarray : {:>10} Bytes\".format(m2))\n",
    "print()\n",
    "\n",
    "m3 = sys.getsizeof(1000000) * len(temp_1)\n",
    "m4 = temp_2.itemsize  * temp_2.size\n",
    "print(\"Essential Memory Usage of list       : {:>10} Bytes\".format(m3))\n",
    "print(\"Essential Memory Usage of np.ndarray : {:>10} Bytes\".format(m4))"
   ]
  },
  {
   "cell_type": "markdown",
   "metadata": {},
   "source": [
    "<div align=\"center\"><img src=\"img/Screen Shot 2018-08-19 at 6.39.27 AM.png\" width=\"70%\"></div>\n",
    "\n",
    "codebasics [youtube](https://www.youtube.com/watch?v=rN0TREj8G7U)"
   ]
  }
 ],
 "metadata": {
  "kernelspec": {
   "display_name": "Python 3",
   "language": "python",
   "name": "python3"
  },
  "language_info": {
   "codemirror_mode": {
    "name": "ipython",
    "version": 3
   },
   "file_extension": ".py",
   "mimetype": "text/x-python",
   "name": "python",
   "nbconvert_exporter": "python",
   "pygments_lexer": "ipython3",
   "version": "3.5.0"
  }
 },
 "nbformat": 4,
 "nbformat_minor": 2
}
