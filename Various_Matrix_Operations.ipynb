{
 "cells": [
  {
   "cell_type": "markdown",
   "metadata": {
    "collapsed": true
   },
   "source": [
    "# Various Matrix Operations "
   ]
  },
  {
   "cell_type": "code",
   "execution_count": 1,
   "metadata": {},
   "outputs": [
    {
     "name": "stdout",
     "output_type": "stream",
     "text": [
      "[[0.79990679 0.15356741]\n",
      " [0.5677806  0.04969421]]\n",
      "\n",
      "-0.04744186416770812\n",
      "\n",
      "20.783235793533443\n",
      "\n",
      "0.8496009992076644\n"
     ]
    }
   ],
   "source": [
    "import numpy as np\n",
    "\n",
    "np.random.seed(337)\n",
    "\n",
    "A = np.random.uniform(0., 1., (2,2))\n",
    "print(A)\n",
    "print()\n",
    "\n",
    "det_A = np.linalg.det(A) # determinant\n",
    "print(det_A)\n",
    "print()\n",
    "\n",
    "cond_A = np.linalg.cond(A) # condition number\n",
    "print(cond_A)\n",
    "print()\n",
    "\n",
    "trace_A = np.trace(A) # trace\n",
    "print(trace_A)"
   ]
  },
  {
   "cell_type": "code",
   "execution_count": 2,
   "metadata": {},
   "outputs": [
    {
     "name": "stdout",
     "output_type": "stream",
     "text": [
      "[[1 1]\n",
      " [1 1]]\n",
      "\n",
      "[[0.25 0.25]\n",
      " [0.25 0.25]]\n"
     ]
    }
   ],
   "source": [
    "import numpy as np\n",
    "\n",
    "np.random.seed(337)\n",
    "\n",
    "A = np.random.uniform(0., 1., (2,2))\n",
    "print(A)\n",
    "print()\n",
    "\n",
    "inv_A = np.linalg.inv(A) # inverse\n",
    "print(inv_A)\n",
    "print()\n",
    "\n",
    "pinv_A = np.linalg.pinv(A) # psudo-inverse\n",
    "print(pinv_A)"
   ]
  },
  {
   "cell_type": "code",
   "execution_count": 3,
   "metadata": {},
   "outputs": [
    {
     "name": "stdout",
     "output_type": "stream",
     "text": [
      "[[0.79990679 0.15356741]\n",
      " [0.5677806  0.04969421]]\n",
      "\n",
      "[[0.79990679 0.5677806 ]\n",
      " [0.15356741 0.04969421]]\n",
      "\n",
      "[[0.79990679 0.5677806 ]\n",
      " [0.15356741 0.04969421]]\n"
     ]
    }
   ],
   "source": [
    "import numpy as np\n",
    "\n",
    "np.random.seed(337)\n",
    "\n",
    "A = np.random.uniform(0., 1., (2,2))\n",
    "print(A)\n",
    "print()\n",
    "\n",
    "A_T1 = A.T # transpose\n",
    "print(A_T1)\n",
    "print()\n",
    "\n",
    "A_T2 = np.transpose(A) # transpose\n",
    "print(A_T2)"
   ]
  }
 ],
 "metadata": {
  "kernelspec": {
   "display_name": "Python 3",
   "language": "python",
   "name": "python3"
  },
  "language_info": {
   "codemirror_mode": {
    "name": "ipython",
    "version": 3
   },
   "file_extension": ".py",
   "mimetype": "text/x-python",
   "name": "python",
   "nbconvert_exporter": "python",
   "pygments_lexer": "ipython3",
   "version": "3.5.0"
  }
 },
 "nbformat": 4,
 "nbformat_minor": 2
}
