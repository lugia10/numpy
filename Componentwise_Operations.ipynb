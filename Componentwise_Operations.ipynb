{
 "cells": [
  {
   "cell_type": "markdown",
   "metadata": {},
   "source": [
    "# Componentwise Operations"
   ]
  },
  {
   "cell_type": "code",
   "execution_count": 5,
   "metadata": {},
   "outputs": [
    {
     "name": "stdout",
     "output_type": "stream",
     "text": [
      "[[1. 1.]\n",
      " [1. 1.]]\n"
     ]
    }
   ],
   "source": [
    "import numpy as np\n",
    "\n",
    "a = np.array([[1, 1], [2, 3]])\n",
    "b = np.array([[1, 1], [2, 3]])\n",
    "\n",
    "if 0:\n",
    "    c = a + b\n",
    "elif 0:\n",
    "    c = a - b\n",
    "elif 0:\n",
    "    c = a * b\n",
    "elif 1:\n",
    "    c = a / b\n",
    "\n",
    "print(c)"
   ]
  },
  {
   "cell_type": "code",
   "execution_count": 9,
   "metadata": {},
   "outputs": [
    {
     "name": "stdout",
     "output_type": "stream",
     "text": [
      "[[2 2]\n",
      " [4 8]]\n"
     ]
    }
   ],
   "source": [
    "import numpy as np\n",
    "\n",
    "a = np.array([[1, 1], [2, 3]])\n",
    "\n",
    "if 0:\n",
    "    b = a**2\n",
    "elif 0:\n",
    "    b = np.power(a, 2)\n",
    "elif 0:\n",
    "    b = 2**a\n",
    "elif 1:\n",
    "    b = np.power(2, a)\n",
    "\n",
    "print(b)"
   ]
  },
  {
   "cell_type": "code",
   "execution_count": 11,
   "metadata": {},
   "outputs": [
    {
     "name": "stdout",
     "output_type": "stream",
     "text": [
      "[[0.         0.        ]\n",
      " [0.69314718 1.09861229]]\n"
     ]
    }
   ],
   "source": [
    "import numpy as np\n",
    "\n",
    "a = np.array([[1, 1], [2, 3]])\n",
    "\n",
    "if 0:\n",
    "    b = np.exp(a)\n",
    "elif 1:\n",
    "    b = np.log(a)\n",
    "\n",
    "print(b)"
   ]
  },
  {
   "cell_type": "code",
   "execution_count": 14,
   "metadata": {},
   "outputs": [
    {
     "name": "stdout",
     "output_type": "stream",
     "text": [
      "[[1.22464680e-16 9.98334166e-02]\n",
      " [1.98669331e-01 2.95520207e-01]]\n"
     ]
    }
   ],
   "source": [
    "import numpy as np\n",
    "\n",
    "a = np.array([[np.pi, 0.1], [0.2, 0.3]])\n",
    "\n",
    "if 1:\n",
    "    b = np.sin(a)\n",
    "elif 1:\n",
    "    b = np.cos(a)\n",
    "elif 1:\n",
    "    b = np.tan(a)\n",
    "elif 1:\n",
    "    b = np.arcsin(a)\n",
    "elif 1:\n",
    "    b = np.arccos(a)\n",
    "elif 1:\n",
    "    b = np.arctan(a)\n",
    "\n",
    "print(b)"
   ]
  },
  {
   "cell_type": "code",
   "execution_count": 16,
   "metadata": {},
   "outputs": [
    {
     "name": "stdout",
     "output_type": "stream",
     "text": [
      "[[3. 3.]\n",
      " [0. 0.]]\n"
     ]
    }
   ],
   "source": [
    "import numpy as np\n",
    "\n",
    "a = np.array([[3.1, 3.6], [0.2, 0.7]])\n",
    "\n",
    "if 0:\n",
    "    b = np.ceil(a)\n",
    "elif 1:\n",
    "    b = np.floor(a)\n",
    "elif 1:\n",
    "    b = np.round(a)\n",
    "\n",
    "print(b)"
   ]
  },
  {
   "cell_type": "markdown",
   "metadata": {},
   "source": [
    "# Componentwise Operations with Broadcasting"
   ]
  },
  {
   "cell_type": "markdown",
   "metadata": {},
   "source": [
    "<div align=\"center\"><img src=\"https://www.python-course.eu/images/broadcasting_example_1.png\" width=\"40%\"></div>"
   ]
  },
  {
   "cell_type": "code",
   "execution_count": 19,
   "metadata": {},
   "outputs": [
    {
     "name": "stdout",
     "output_type": "stream",
     "text": [
      "[[1]\n",
      " [2]\n",
      " [3]]\n",
      "[[11 12 13]\n",
      " [42 44 46]\n",
      " [93 96 99]]\n"
     ]
    }
   ],
   "source": [
    "import numpy as np\n",
    "\n",
    "a = np.array([[11,12,13], [21,22,23], [31,32,33]])\n",
    "\n",
    "if 0:\n",
    "    b = np.array([1,2,3])\n",
    "elif 0:\n",
    "    b = np.array([[1,2,3]]) \n",
    "elif 1:\n",
    "    b = np.array([[1],[2],[3]]) \n",
    "c = a*b\n",
    "\n",
    "print(b)\n",
    "print(c)"
   ]
  },
  {
   "cell_type": "code",
   "execution_count": 7,
   "metadata": {},
   "outputs": [
    {
     "name": "stdout",
     "output_type": "stream",
     "text": [
      "[[11 12 13]\n",
      " [21 22 23]\n",
      " [31 32 33]]\n",
      "[[22 24 26]\n",
      " [42 44 46]\n",
      " [62 64 66]]\n",
      "[[11 12 13]\n",
      " [42 44 46]\n",
      " [93 96 99]]\n"
     ]
    }
   ],
   "source": [
    "import numpy as np\n",
    "\n",
    "a = np.array([[11,12,13], [21,22,23], [31,32,33]])\n",
    "\n",
    "if 0:\n",
    "    b = a + 2\n",
    "elif 0:\n",
    "    b = a - 2\n",
    "elif 1:\n",
    "    b = a * 2 \n",
    "elif 1:\n",
    "    b = a / 2 \n",
    "elif 1:\n",
    "    b = a % 2 \n",
    "elif 1:\n",
    "    b = a // 2 \n",
    "\n",
    "print(a)\n",
    "print(b)\n",
    "print(c)"
   ]
  },
  {
   "cell_type": "markdown",
   "metadata": {},
   "source": [
    "문제. \n",
    "아래 그림을 만드는 코드를 완성하라.\n",
    "\n",
    "<div align=\"center\"><img src=\"img/Screen Shot 2018-11-27 at 10.59.03 AM.png\" width=\"60%\" height=\"30%\"></div>\n",
    "\n",
    "From CARL DOERSCH\n",
    "\n",
    "```\n",
    "import numpy as np\n",
    "import matplotlib.pyplot as plt\n",
    "\n",
    "z = np.random.normal(size=(2,100))\n",
    "### put your code below\n",
    "g = ### put your code here\n",
    "### put your code above\n",
    "\n",
    "plt.figure(1, figsize=(12,5))\n",
    "\n",
    "plt.subplot(1,2,1)\n",
    "plt.plot(z[0,:],z[1,:],'ob',markersize=3)\n",
    "plt.xlim((-4,4))\n",
    "plt.ylim((-4,4))\n",
    "\n",
    "plt.subplot(1,2,2)\n",
    "plt.plot(g[0,:],g[1,:],'ob',markersize=3)\n",
    "plt.xlim((-1.5,1.5))\n",
    "plt.ylim((-1.5,1.5))\n",
    "\n",
    "plt.show()\n",
    "```"
   ]
  },
  {
   "cell_type": "code",
   "execution_count": null,
   "metadata": {},
   "outputs": [],
   "source": []
  }
 ],
 "metadata": {
  "kernelspec": {
   "display_name": "Python 3",
   "language": "python",
   "name": "python3"
  },
  "language_info": {
   "codemirror_mode": {
    "name": "ipython",
    "version": 3
   },
   "file_extension": ".py",
   "mimetype": "text/x-python",
   "name": "python",
   "nbconvert_exporter": "python",
   "pygments_lexer": "ipython3",
   "version": "3.5.0"
  }
 },
 "nbformat": 4,
 "nbformat_minor": 2
}
