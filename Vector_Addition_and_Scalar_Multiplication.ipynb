{
 "cells": [
  {
   "cell_type": "code",
   "execution_count": 1,
   "metadata": {},
   "outputs": [
    {
     "name": "stdout",
     "output_type": "stream",
     "text": [
      "[100, 200]\n",
      "<class 'list'>\n",
      "\n",
      "[50, 0]\n",
      "<class 'list'>\n"
     ]
    }
   ],
   "source": [
    "u = [100, 200]\n",
    "v = [50, 0]\n",
    "\n",
    "print(u)\n",
    "print(type(u))\n",
    "print()\n",
    "\n",
    "print(v)\n",
    "print(type(v))"
   ]
  },
  {
   "cell_type": "code",
   "execution_count": 2,
   "metadata": {},
   "outputs": [
    {
     "name": "stdout",
     "output_type": "stream",
     "text": [
      "[100, 200, 50, 0]\n",
      "<class 'list'>\n"
     ]
    }
   ],
   "source": [
    "u = [100, 200]\n",
    "v = [50, 0]\n",
    "w = u+v # list concatanation\n",
    "\n",
    "print(w)\n",
    "print(type(w))"
   ]
  },
  {
   "cell_type": "code",
   "execution_count": 4,
   "metadata": {},
   "outputs": [
    {
     "name": "stdout",
     "output_type": "stream",
     "text": [
      "[150, 200]\n",
      "<class 'list'>\n"
     ]
    }
   ],
   "source": [
    "u = [100, 200]\n",
    "v = [50, 0]\n",
    "w = []\n",
    "for i in range(len(u)):\n",
    "    w.append(u[i] + v[i])\n",
    "\n",
    "print(w)\n",
    "print(type(w))"
   ]
  },
  {
   "cell_type": "code",
   "execution_count": 7,
   "metadata": {},
   "outputs": [
    {
     "name": "stdout",
     "output_type": "stream",
     "text": [
      "[150 200]\n",
      "<class 'numpy.ndarray'>\n"
     ]
    }
   ],
   "source": [
    "import numpy as np\n",
    "\n",
    "u = np.array([100, 200])\n",
    "v = np.array([50, 0])\n",
    "w = u+v # vector addition\n",
    "\n",
    "print(w)\n",
    "print(type(w))"
   ]
  },
  {
   "cell_type": "code",
   "execution_count": 8,
   "metadata": {},
   "outputs": [
    {
     "name": "stdout",
     "output_type": "stream",
     "text": [
      "[100, 200, 100, 200, 100, 200]\n",
      "<class 'list'>\n"
     ]
    }
   ],
   "source": [
    "u = [100, 200]\n",
    "la = 3\n",
    "w = la*u # list concatanation u+u+u\n",
    "\n",
    "print(w)\n",
    "print(type(w))"
   ]
  },
  {
   "cell_type": "code",
   "execution_count": 12,
   "metadata": {},
   "outputs": [
    {
     "name": "stdout",
     "output_type": "stream",
     "text": [
      "[300 600]\n",
      "<class 'numpy.ndarray'>\n"
     ]
    }
   ],
   "source": [
    "import numpy as np\n",
    "\n",
    "u = np.array([100, 200])\n",
    "la = 3\n",
    "#w = la*u # scalar multiplication\n",
    "w = u*la # scalar multiplication\n",
    "\n",
    "print(w)\n",
    "print(type(w))"
   ]
  },
  {
   "cell_type": "code",
   "execution_count": null,
   "metadata": {},
   "outputs": [],
   "source": []
  }
 ],
 "metadata": {
  "kernelspec": {
   "display_name": "Python 3",
   "language": "python",
   "name": "python3"
  },
  "language_info": {
   "codemirror_mode": {
    "name": "ipython",
    "version": 3
   },
   "file_extension": ".py",
   "mimetype": "text/x-python",
   "name": "python",
   "nbconvert_exporter": "python",
   "pygments_lexer": "ipython3",
   "version": "3.6.8"
  }
 },
 "nbformat": 4,
 "nbformat_minor": 2
}
