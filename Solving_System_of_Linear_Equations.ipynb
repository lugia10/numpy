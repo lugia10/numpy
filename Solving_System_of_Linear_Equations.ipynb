{
 "cells": [
  {
   "cell_type": "markdown",
   "metadata": {},
   "source": [
    "# Solving System of Linear Equations"
   ]
  },
  {
   "cell_type": "markdown",
   "metadata": {},
   "source": [
    "PHYS_250 [youtube](https://www.youtube.com/watch?v=hxuYzgwuthg&t=892s)"
   ]
  },
  {
   "cell_type": "code",
   "execution_count": 31,
   "metadata": {},
   "outputs": [
    {
     "name": "stdout",
     "output_type": "stream",
     "text": [
      "[[-0.69957044]\n",
      " [-0.34232785]\n",
      " [ 0.52621269]]\n",
      "\n",
      "[[-0.69957044]\n",
      " [-0.34232785]\n",
      " [ 0.52621269]]\n"
     ]
    }
   ],
   "source": [
    "import numpy as np\n",
    "import scipy.linalg as sl\n",
    "\n",
    "np.random.seed(337)\n",
    "\n",
    "# Ax = b\n",
    "A = np.random.normal(0,1,(3,3))\n",
    "x = np.random.normal(0,1,(3,1)) \n",
    "b = A@x\n",
    "\n",
    "# x = A\\b\n",
    "if 0: \n",
    "    x_sol = np.linalg.solve(A,b)\n",
    "elif 1:\n",
    "    x_sol = sl.solve(A,b)\n",
    "\n",
    "print(x)\n",
    "print()\n",
    "\n",
    "print(x_sol)"
   ]
  },
  {
   "cell_type": "markdown",
   "metadata": {},
   "source": [
    "# np.eye"
   ]
  },
  {
   "cell_type": "code",
   "execution_count": 9,
   "metadata": {},
   "outputs": [
    {
     "name": "stdout",
     "output_type": "stream",
     "text": [
      "[[0. 0. 0. 0. 0.]\n",
      " [0. 0. 0. 0. 0.]\n",
      " [1. 0. 0. 0. 0.]\n",
      " [0. 1. 0. 0. 0.]\n",
      " [0. 0. 1. 0. 0.]]\n"
     ]
    }
   ],
   "source": [
    "# https://docs.scipy.org/doc/numpy-1.13.0/reference/generated/numpy.eye.html\n",
    "\n",
    "import numpy as np\n",
    "\n",
    "if 0:\n",
    "    A = np.eye(5)\n",
    "elif 0:\n",
    "    A = np.eye(5, k=1)\n",
    "elif 0:\n",
    "    A = np.eye(5, k=2)\n",
    "elif 0:\n",
    "    A = np.eye(5, k=-1)\n",
    "elif 1:\n",
    "    A = np.eye(5, k=-2)\n",
    "    \n",
    "print(A)"
   ]
  },
  {
   "cell_type": "code",
   "execution_count": 41,
   "metadata": {},
   "outputs": [
    {
     "name": "stdout",
     "output_type": "stream",
     "text": [
      "[[0 0 0 0 0 0 0]\n",
      " [0 0 0 0 0 0 0]\n",
      " [1 0 0 0 0 0 0]\n",
      " [0 2 0 0 0 0 0]\n",
      " [0 0 3 0 0 0 0]\n",
      " [0 0 0 4 0 0 0]\n",
      " [0 0 0 0 5 0 0]]\n"
     ]
    }
   ],
   "source": [
    "# https://docs.scipy.org/doc/numpy-1.15.0/reference/generated/numpy.diag.html\n",
    "\n",
    "import numpy as np\n",
    "\n",
    "if 0:\n",
    "    A = np.diag([1,2,3,4,5])\n",
    "elif 0:\n",
    "    A = np.diag([1,2,3,4,5], k=1)\n",
    "elif 0:\n",
    "    A = np.diag([1,2,3,4,5], k=2)\n",
    "elif 0:\n",
    "    A = np.diag([1,2,3,4,5], k=-1)\n",
    "elif 1:\n",
    "    A = np.diag([1,2,3,4,5], k=-2)\n",
    "    \n",
    "print(A)"
   ]
  },
  {
   "cell_type": "code",
   "execution_count": 5,
   "metadata": {},
   "outputs": [
    {
     "name": "stdout",
     "output_type": "stream",
     "text": [
      "  (2, 0)\t1\n",
      "  (3, 1)\t2\n",
      "  (4, 2)\t3\n",
      "\n",
      "[[0 0 0 0 0]\n",
      " [0 0 0 0 0]\n",
      " [1 0 0 0 0]\n",
      " [0 2 0 0 0]\n",
      " [0 0 3 0 0]]\n",
      "\n",
      "  (2, 0)\t1\n",
      "  (3, 1)\t2\n",
      "  (4, 2)\t3\n"
     ]
    }
   ],
   "source": [
    "# https://docs.scipy.org/doc/scipy/reference/generated/scipy.sparse.spdiags.html\n",
    "\n",
    "import scipy.sparse as ss\n",
    "\n",
    "if 0:\n",
    "    A = ss.spdiags([1,2,3,4,5], 0, 5, 5)\n",
    "elif 0:\n",
    "    A = ss.spdiags([1,2,3,4,5], 1, 5, 5)\n",
    "elif 0:\n",
    "    A = ss.spdiags([1,2,3,4,5], 2, 5, 5)\n",
    "elif 0:\n",
    "    A = ss.spdiags([1,2,3,4,5], -1, 5, 5)\n",
    "elif 1:\n",
    "    A = ss.spdiags([1,2,3,4,5], -2, 5, 5)\n",
    "    \n",
    "print(A)\n",
    "print()\n",
    "\n",
    "print(A.toarray())\n",
    "print()\n",
    "\n",
    "print(A)"
   ]
  },
  {
   "cell_type": "code",
   "execution_count": null,
   "metadata": {},
   "outputs": [],
   "source": []
  }
 ],
 "metadata": {
  "kernelspec": {
   "display_name": "Python 3",
   "language": "python",
   "name": "python3"
  },
  "language_info": {
   "codemirror_mode": {
    "name": "ipython",
    "version": 3
   },
   "file_extension": ".py",
   "mimetype": "text/x-python",
   "name": "python",
   "nbconvert_exporter": "python",
   "pygments_lexer": "ipython3",
   "version": "3.5.0"
  }
 },
 "nbformat": 4,
 "nbformat_minor": 2
}
