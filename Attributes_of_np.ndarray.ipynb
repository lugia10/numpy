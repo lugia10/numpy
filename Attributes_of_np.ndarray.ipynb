{
 "cells": [
  {
   "cell_type": "markdown",
   "metadata": {},
   "source": [
    "# Attributes of np.ndarray"
   ]
  },
  {
   "cell_type": "markdown",
   "metadata": {},
   "source": [
    "codebasics [youtube](https://www.youtube.com/watch?v=a8aDcLk4vRc)"
   ]
  },
  {
   "cell_type": "markdown",
   "metadata": {},
   "source": [
    "# Attributes"
   ]
  },
  {
   "cell_type": "markdown",
   "metadata": {},
   "source": [
    "NumPy’s array class is called ndarray. It is also known by the alias array. Note that numpy.array is not the same as the Standard Python Library class array.array, which only handles one-dimensional arrays and offers less functionality. The more important attributes of an ndarray object are:\n",
    "\n",
    "- ndarray.dtype\n",
    "\n",
    "- ndarray.shape\n",
    "\n",
    "- ndarray.size\n",
    "\n",
    "- ndarray.ndim\n",
    "\n",
    "- ndarray.itemsize\n",
    "\n",
    "- ndarray.data\n",
    "\n",
    "https://docs.scipy.org/doc/numpy/user/quickstart.html"
   ]
  },
  {
   "cell_type": "markdown",
   "metadata": {},
   "source": [
    "<div align=\"center\"><img src=\"img/Variable.png\" width=\"50%\"></div>\n",
    "\n",
    "http://corochann.com/chainer-basic-module-introduction-1098.html"
   ]
  },
  {
   "cell_type": "markdown",
   "metadata": {},
   "source": [
    "# dtype"
   ]
  },
  {
   "cell_type": "markdown",
   "metadata": {},
   "source": [
    "| Data type\t    | Description |\n",
    "|---------------|-------------|\n",
    "| ``bool_``     | Boolean (True or False) stored as a byte |\n",
    "| ``int_``      | Default integer type (same as C ``long``; normally either ``int64`` or ``int32``)| \n",
    "| ``intc``      | Identical to C ``int`` (normally ``int32`` or ``int64``)| \n",
    "| ``intp``      | Integer used for indexing (same as C ``ssize_t``; normally either ``int32`` or ``int64``)| \n",
    "| ``int8``      | Byte (-128 to 127)| \n",
    "| ``int16``     | Integer (-32768 to 32767)|\n",
    "| ``int32``     | Integer (-2147483648 to 2147483647)|\n",
    "| ``int64``     | Integer (-9223372036854775808 to 9223372036854775807)| \n",
    "| ``uint8``     | Unsigned integer (0 to 255)| \n",
    "| ``uint16``    | Unsigned integer (0 to 65535)| \n",
    "| ``uint32``    | Unsigned integer (0 to 4294967295)| \n",
    "| ``uint64``    | Unsigned integer (0 to 18446744073709551615)| \n",
    "| ``float_``    | Shorthand for ``float64``.| \n",
    "| ``float16``   | Half precision float: sign bit, 5 bits exponent, 10 bits mantissa| \n",
    "| ``float32``   | Single precision float: sign bit, 8 bits exponent, 23 bits mantissa| \n",
    "| ``float64``   | Double precision float: sign bit, 11 bits exponent, 52 bits mantissa| \n",
    "| ``complex_``  | Shorthand for ``complex128``.| \n",
    "| ``complex64`` | Complex number, represented by two 32-bit floats| \n",
    "| ``complex128``| Complex number, represented by two 64-bit floats| "
   ]
  },
  {
   "cell_type": "markdown",
   "metadata": {},
   "source": [
    "##### list\n",
    "\n",
    "- Each may have different data type\n",
    "\n",
    "##### np.ndarray\n",
    "\n",
    "- All have same data type\n",
    "\n",
    "- Fast"
   ]
  },
  {
   "cell_type": "code",
   "execution_count": 1,
   "metadata": {},
   "outputs": [
    {
     "name": "stdout",
     "output_type": "stream",
     "text": [
      "float64\n"
     ]
    }
   ],
   "source": [
    "import numpy as np\n",
    "\n",
    "a = [1, 1.3, 'Hi']\n",
    "b = [1.3, 1, 'David']\n",
    "\n",
    "c = np.array([1, 1.3, 3.1])\n",
    "d = np.array([1, 1.3, 3.1])\n",
    "\n",
    "print(c.dtype)"
   ]
  },
  {
   "cell_type": "markdown",
   "metadata": {},
   "source": [
    "# shape"
   ]
  },
  {
   "cell_type": "markdown",
   "metadata": {},
   "source": [
    "<div align=\"center\"><img src=\"img/elsp_0105.png\" width=\"50%\"></div>\n",
    "\n",
    "https://www.safaribooksonline.com/library/view/elegant-scipy/9781491922927/assets/elsp_0105.png"
   ]
  },
  {
   "cell_type": "code",
   "execution_count": 6,
   "metadata": {},
   "outputs": [
    {
     "name": "stdout",
     "output_type": "stream",
     "text": [
      "[1, '2', [3], (4,)]\n",
      "<class 'list'>\n",
      "4\n"
     ]
    }
   ],
   "source": [
    "u = [1, '2', [3], (4,)]     \n",
    "\n",
    "print(u)\n",
    "print(type(u))\n",
    "print(len(u))"
   ]
  },
  {
   "cell_type": "code",
   "execution_count": 7,
   "metadata": {},
   "outputs": [
    {
     "name": "stdout",
     "output_type": "stream",
     "text": [
      "[[-1.  -0.6 -0.2]\n",
      " [ 0.2  0.6  1. ]]\n",
      "<class 'numpy.ndarray'>\n",
      "2\n",
      "\n",
      "dtype:     float64\n",
      "shape:     (2, 3)\n",
      "size:      6\n",
      "ndim:      2\n",
      "itemsize:  8\n",
      "data:      <memory at 0x11347d480>\n"
     ]
    }
   ],
   "source": [
    "import numpy as np\n",
    "\n",
    "if 0:\n",
    "    u = np.array([1, 2, 3, 4]) \n",
    "elif 0:\n",
    "    u = np.array((1, 2, 3, 4))\n",
    "elif 0:\n",
    "    u = np.arange(10)\n",
    "elif 0:\n",
    "    u = np.array([[-1., -0.6, -0.2], [0.2, 0.6, 1]])\n",
    "elif 1:\n",
    "    u = np.array([(-1., -0.6, -0.2), (0.2, 0.6, 1)])\n",
    "    \n",
    "print(u)\n",
    "print(type(u))\n",
    "print(len(u))\n",
    "print()\n",
    "\n",
    "print(\"dtype:    \", u.dtype)\n",
    "print(\"shape:    \", u.shape)    \n",
    "print(\"size:     \", u.size)\n",
    "print(\"ndim:     \", u.ndim)\n",
    "print(\"itemsize: \", u.itemsize)\n",
    "print(\"data:     \", u.data)"
   ]
  },
  {
   "cell_type": "markdown",
   "metadata": {},
   "source": [
    "# How to change dtype"
   ]
  },
  {
   "cell_type": "code",
   "execution_count": 8,
   "metadata": {},
   "outputs": [
    {
     "name": "stdout",
     "output_type": "stream",
     "text": [
      "2\n"
     ]
    }
   ],
   "source": [
    "print(int(2.6))"
   ]
  },
  {
   "cell_type": "code",
   "execution_count": 9,
   "metadata": {},
   "outputs": [
    {
     "name": "stdout",
     "output_type": "stream",
     "text": [
      "2.0\n"
     ]
    }
   ],
   "source": [
    "print(float(2))"
   ]
  },
  {
   "cell_type": "code",
   "execution_count": 11,
   "metadata": {},
   "outputs": [
    {
     "name": "stdout",
     "output_type": "stream",
     "text": [
      "only size-1 arrays can be converted to Python scalars\n"
     ]
    }
   ],
   "source": [
    "import numpy as np\n",
    "\n",
    "u = np.array([[-1., -0.6, -0.2], [0.2, 0.6, 1]])\n",
    "\n",
    "try:\n",
    "    print(int(u))\n",
    "except Exception as e:\n",
    "    print(e)"
   ]
  },
  {
   "cell_type": "code",
   "execution_count": 19,
   "metadata": {},
   "outputs": [
    {
     "name": "stdout",
     "output_type": "stream",
     "text": [
      "[ 0.          0.20408163  0.40816327  0.6122449   0.81632653  1.02040816\n",
      "  1.2244898   1.42857143  1.63265306  1.83673469  2.04081633  2.24489796\n",
      "  2.44897959  2.65306122  2.85714286  3.06122449  3.26530612  3.46938776\n",
      "  3.67346939  3.87755102  4.08163265  4.28571429  4.48979592  4.69387755\n",
      "  4.89795918  5.10204082  5.30612245  5.51020408  5.71428571  5.91836735\n",
      "  6.12244898  6.32653061  6.53061224  6.73469388  6.93877551  7.14285714\n",
      "  7.34693878  7.55102041  7.75510204  7.95918367  8.16326531  8.36734694\n",
      "  8.57142857  8.7755102   8.97959184  9.18367347  9.3877551   9.59183673\n",
      "  9.79591837 10.        ]\n",
      "float64\n",
      "8\n"
     ]
    }
   ],
   "source": [
    "import numpy as np\n",
    "\n",
    "if 0:\n",
    "    # use astype method\n",
    "    u = np.array([1., 2., 3., 4.]).astype(np.int32)\n",
    "elif 0:\n",
    "    # use astype method\n",
    "    u = np.array([1., 2., 3., 4.]).astype(np.int64)\n",
    "elif 0:\n",
    "    # use dtype keyword\n",
    "    u = np.array([1., 2., 3., 4.], dtype=np.int32)\n",
    "elif 0:\n",
    "    # use dtype keyword\n",
    "    u = np.array([1., 2., 3., 4.], dtype=np.int64)\n",
    "elif 0:\n",
    "    # use dtype keyword\n",
    "    u = np.linspace(0, 10, dtype=np.float32)\n",
    "elif 0:\n",
    "    # use dtype keyword\n",
    "    u = np.linspace(0, 10, dtype=np.float64)\n",
    "elif 1:\n",
    "    # use dtype keyword\n",
    "    u = np.eye(5, dtype=np.float32)\n",
    "elif 1:\n",
    "    # use dtype keyword\n",
    "    u = np.eye(5, dtype=np.float64)\n",
    "\n",
    "print(u)\n",
    "print(u.dtype)\n",
    "print(u.itemsize)"
   ]
  },
  {
   "cell_type": "markdown",
   "metadata": {},
   "source": [
    "# How to change shape"
   ]
  },
  {
   "cell_type": "code",
   "execution_count": 27,
   "metadata": {},
   "outputs": [
    {
     "name": "stdout",
     "output_type": "stream",
     "text": [
      "[1 2 3 4]\n",
      "(4,)\n"
     ]
    }
   ],
   "source": [
    "if 0:\n",
    "    # use reshape method\n",
    "    u = np.array([[1, 2], [3, 4]]).reshape((4,))\n",
    "elif 0:\n",
    "    # use flatten method\n",
    "    u = np.array([[1, 2], [3, 4]]).flatten()\n",
    "elif 0:\n",
    "    # use ravel method\n",
    "    u = np.array([[1, 2], [3, 4]]).ravel()\n",
    "elif 0:\n",
    "    # reshape/flatten/ravel method는 오리지날을 건들이지 않고 reshape한 것을 리턴합니다. \n",
    "    # inplace=True도 작동하지 않아요. \n",
    "    # 리턴한 것을 받아야만 모양을 바꿀 수 있어요.\n",
    "    u = np.array([[1, 2], [3, 4]])\n",
    "    u.reshape((4,))\n",
    "elif 0:\n",
    "    # reshape/flatten/ravel method는 오리지날을 건들이지 않고 reshape한 것을 리턴합니다. \n",
    "    # inplace=True도 작동하지 않아요. \n",
    "    # 리턴한 것을 받아야만 모양을 바꿀 수 있어요.\n",
    "    u = np.array([[1, 2], [3, 4]])\n",
    "    u.flatten()\n",
    "elif 1:\n",
    "    # reshape/flatten/ravel method는 오리지날을 건들이지 않고 reshape한 것을 리턴합니다. \n",
    "    # inplace=True도 작동하지 않아요. \n",
    "    # 리턴한 것을 받아야만 모양을 바꿀 수 있어요.\n",
    "    u = np.array([[1, 2], [3, 4]])\n",
    "    u.ravel()\n",
    "    \n",
    "print(u)\n",
    "print(u.shape)"
   ]
  },
  {
   "cell_type": "code",
   "execution_count": 30,
   "metadata": {},
   "outputs": [
    {
     "name": "stdout",
     "output_type": "stream",
     "text": [
      "[0.79990679 0.15356741 0.5677806 ]\n",
      "(3,)\n",
      "\n",
      "[[0.79990679 0.15356741 0.5677806 ]]\n",
      "(1, 3)\n",
      "\n",
      "[[0.79990679]\n",
      " [0.15356741]\n",
      " [0.5677806 ]]\n",
      "(3, 1)\n"
     ]
    }
   ],
   "source": [
    "import numpy as np\n",
    "\n",
    "np.random.seed(337)\n",
    "\n",
    "u = np.random.uniform(0, 1, (3,))\n",
    "\n",
    "if 0:\n",
    "    # use np.expand_dims\n",
    "    u1 = np.expand_dims(u, axis=0)\n",
    "    u2 = np.expand_dims(u, axis=1)\n",
    "elif 0:\n",
    "    # use np.newaxis\n",
    "    u1 = u[np.newaxis, :]\n",
    "    u2 = u[:, np.newaxis]      \n",
    "else:\n",
    "    # use None\n",
    "    u1 = u[None, :]\n",
    "    u2 = u[:, None] \n",
    "    \n",
    "print(u)\n",
    "print(u.shape)\n",
    "print()\n",
    "    \n",
    "print(u1)\n",
    "print(u1.shape)\n",
    "print()\n",
    "\n",
    "print(u2)\n",
    "print(u2.shape)"
   ]
  },
  {
   "cell_type": "code",
   "execution_count": null,
   "metadata": {},
   "outputs": [],
   "source": []
  }
 ],
 "metadata": {
  "kernelspec": {
   "display_name": "Python 3",
   "language": "python",
   "name": "python3"
  },
  "language_info": {
   "codemirror_mode": {
    "name": "ipython",
    "version": 3
   },
   "file_extension": ".py",
   "mimetype": "text/x-python",
   "name": "python",
   "nbconvert_exporter": "python",
   "pygments_lexer": "ipython3",
   "version": "3.5.0"
  }
 },
 "nbformat": 4,
 "nbformat_minor": 2
}
