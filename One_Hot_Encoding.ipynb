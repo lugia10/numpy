{
 "cells": [
  {
   "cell_type": "markdown",
   "metadata": {},
   "source": [
    "# One Hot Encoding"
   ]
  },
  {
   "cell_type": "markdown",
   "metadata": {},
   "source": [
    "$$\\begin{array}{llllllllllll}\n",
    "0&\\rightarrow&[&1&0&0&0&]\\\\\n",
    "1&\\rightarrow&[&0&1&0&0&]\\\\\n",
    "2&\\rightarrow&[&0&0&1&0&]\\\\\n",
    "3&\\rightarrow&[&0&0&0&1&]\\\\\n",
    "\\end{array}$$"
   ]
  },
  {
   "cell_type": "code",
   "execution_count": 2,
   "metadata": {},
   "outputs": [
    {
     "name": "stdout",
     "output_type": "stream",
     "text": [
      "[[1. 0. 0. 0.]\n",
      " [0. 1. 0. 0.]\n",
      " [0. 0. 1. 0.]\n",
      " [0. 0. 0. 1.]]\n",
      "\n",
      "[0. 0. 1. 0.]\n",
      "\n",
      "[[1. 0. 0. 0.]\n",
      " [1. 0. 0. 0.]\n",
      " [0. 0. 0. 1.]]\n",
      "\n",
      "[[1. 0. 0. 0.]\n",
      " [1. 0. 0. 0.]\n",
      " [0. 0. 0. 1.]]\n",
      "\n",
      "[[1 0 0 0]\n",
      " [1 0 0 0]\n",
      " [0 0 0 1]]\n",
      "\n",
      "[[1. 0. 0. 0.]\n",
      " [1. 0. 0. 0.]\n",
      " [0. 0. 0. 1.]]\n"
     ]
    }
   ],
   "source": [
    "import numpy as np\n",
    "\n",
    "print(np.eye(4))\n",
    "print()\n",
    "print(np.eye(4)[2])\n",
    "print()\n",
    "print(np.eye(4)[[0,0,3]])\n",
    "print()\n",
    "print(np.eye(4)[np.array([0,0,3])])\n",
    "print()\n",
    "print(np.eye(4)[[0,0,3]].astype(np.int32))\n",
    "print()\n",
    "print(np.eye(4)[[0,0,3]].astype(np.float32))"
   ]
  },
  {
   "cell_type": "code",
   "execution_count": 6,
   "metadata": {},
   "outputs": [
    {
     "name": "stdout",
     "output_type": "stream",
     "text": [
      "[[1 0 0 0]\n",
      " [1 0 0 0]\n",
      " [0 0 0 1]]\n",
      "\n",
      "[[1 0 0 0]\n",
      " [1 0 0 0]\n",
      " [0 0 0 1]]\n",
      "\n",
      "[[1 0 0 0]\n",
      " [1 0 0 0]\n",
      " [0 0 0 1]]\n",
      "\n",
      "[[1 0 0 0]\n",
      " [1 0 0 0]\n",
      " [0 0 0 1]]\n"
     ]
    }
   ],
   "source": [
    "import numpy as np\n",
    "\n",
    "def one_hot(list_or_1d_array, num_states):\n",
    "    # list_or_1d_array = [0,0,3] or np.array([0,0,3]) \n",
    "    # num_states = 4\n",
    "    return np.eye(num_states)[list_or_1d_array].astype(np.int32)\n",
    "\n",
    "print(one_hot(list_or_1d_array=[0,0,3], num_states=4))\n",
    "print()\n",
    "print(one_hot(list_or_1d_array=np.array([0,0,3]), num_states=4))\n",
    "print()\n",
    "print(one_hot([0,0,3], 4))\n",
    "print()\n",
    "print(one_hot(np.array([0,0,3]), 4))"
   ]
  },
  {
   "cell_type": "code",
   "execution_count": null,
   "metadata": {},
   "outputs": [],
   "source": []
  }
 ],
 "metadata": {
  "kernelspec": {
   "display_name": "Python 3",
   "language": "python",
   "name": "python3"
  },
  "language_info": {
   "codemirror_mode": {
    "name": "ipython",
    "version": 3
   },
   "file_extension": ".py",
   "mimetype": "text/x-python",
   "name": "python",
   "nbconvert_exporter": "python",
   "pygments_lexer": "ipython3",
   "version": "3.5.0"
  }
 },
 "nbformat": 4,
 "nbformat_minor": 2
}
