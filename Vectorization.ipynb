{
 "cells": [
  {
   "cell_type": "markdown",
   "metadata": {},
   "source": [
    "$$\\sum_{k=1}^n k$$"
   ]
  },
  {
   "cell_type": "code",
   "execution_count": 1,
   "metadata": {},
   "outputs": [
    {
     "name": "stdout",
     "output_type": "stream",
     "text": [
      "55\n"
     ]
    }
   ],
   "source": [
    "# computation using for loop\n",
    "\n",
    "n = 10\n",
    "\n",
    "temp = 0\n",
    "for i in range(1,n+1):\n",
    "    temp += i\n",
    "    \n",
    "print(temp)"
   ]
  },
  {
   "cell_type": "code",
   "execution_count": 2,
   "metadata": {},
   "outputs": [
    {
     "name": "stdout",
     "output_type": "stream",
     "text": [
      "55\n"
     ]
    }
   ],
   "source": [
    "# computation without using for loop, i.e., vectorization\n",
    "\n",
    "import numpy as np\n",
    "\n",
    "n = 10\n",
    "\n",
    "x = np.arange(1,n+1)\n",
    "temp = np.sum(x)\n",
    "\n",
    "print(temp)"
   ]
  },
  {
   "cell_type": "markdown",
   "metadata": {},
   "source": [
    "$$\\sum_{k=1}^n k^2$$"
   ]
  },
  {
   "cell_type": "code",
   "execution_count": 3,
   "metadata": {},
   "outputs": [
    {
     "name": "stdout",
     "output_type": "stream",
     "text": [
      "385\n"
     ]
    }
   ],
   "source": [
    "# computation using for loop\n",
    "\n",
    "n = 10\n",
    "\n",
    "temp = 0\n",
    "for i in range(1,n+1):\n",
    "    temp += i**2\n",
    "    \n",
    "print(temp)"
   ]
  },
  {
   "cell_type": "code",
   "execution_count": 4,
   "metadata": {},
   "outputs": [
    {
     "name": "stdout",
     "output_type": "stream",
     "text": [
      "385\n"
     ]
    }
   ],
   "source": [
    "# computation without using for loop, i.e., vectorization\n",
    "\n",
    "import numpy as np\n",
    "\n",
    "n = 10\n",
    "\n",
    "x = np.arange(1,n+1)**2\n",
    "temp = np.sum(x)\n",
    "\n",
    "print(temp)"
   ]
  },
  {
   "cell_type": "markdown",
   "metadata": {},
   "source": [
    "Exercise. Do the following computation using vectorization.\n",
    "$$\\begin{array}{lll}\n",
    "\\sum_{k=1}^n k^3\\\\\n",
    "\\sum_{k=1}^n sin(k)\\\\\n",
    "\\sum_{k=1}^n ksin(k)\\\\\n",
    "\\end{array}$$"
   ]
  }
 ],
 "metadata": {
  "kernelspec": {
   "display_name": "Python 3",
   "language": "python",
   "name": "python3"
  },
  "language_info": {
   "codemirror_mode": {
    "name": "ipython",
    "version": 3
   },
   "file_extension": ".py",
   "mimetype": "text/x-python",
   "name": "python",
   "nbconvert_exporter": "python",
   "pygments_lexer": "ipython3",
   "version": "3.5.0"
  }
 },
 "nbformat": 4,
 "nbformat_minor": 2
}
