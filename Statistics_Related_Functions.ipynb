{
 "cells": [
  {
   "cell_type": "markdown",
   "metadata": {
    "collapsed": true
   },
   "source": [
    "# Statistics Related Functions"
   ]
  },
  {
   "cell_type": "markdown",
   "metadata": {},
   "source": [
    "# np.random.normal"
   ]
  },
  {
   "cell_type": "code",
   "execution_count": 11,
   "metadata": {},
   "outputs": [
    {
     "data": {
      "image/png": "[encoded data removed]",
      "text/plain": [
       "<Figure size 432x288 with 1 Axes>"
      ]
     },
     "metadata": {
      "needs_background": "light"
     },
     "output_type": "display_data"
    },
    {
     "name": "stdout",
     "output_type": "stream",
     "text": [
      "['T', '__abs__', '__add__', '__and__', '__array__', '__array_finalize__', '__array_interface__', '__array_prepare__', '__array_priority__', '__array_struct__', '__array_ufunc__', '__array_wrap__', '__bool__', '__class__', '__complex__', '__contains__', '__copy__', '__deepcopy__', '__delattr__', '__delitem__', '__dir__', '__divmod__', '__doc__', '__eq__', '__float__', '__floordiv__', '__format__', '__ge__', '__getattribute__', '__getitem__', '__gt__', '__hash__', '__iadd__', '__iand__', '__ifloordiv__', '__ilshift__', '__imatmul__', '__imod__', '__imul__', '__index__', '__init__', '__int__', '__invert__', '__ior__', '__ipow__', '__irshift__', '__isub__', '__iter__', '__itruediv__', '__ixor__', '__le__', '__len__', '__lshift__', '__lt__', '__matmul__', '__mod__', '__mul__', '__ne__', '__neg__', '__new__', '__or__', '__pos__', '__pow__', '__radd__', '__rand__', '__rdivmod__', '__reduce__', '__reduce_ex__', '__repr__', '__rfloordiv__', '__rlshift__', '__rmatmul__', '__rmod__', '__rmul__', '__ror__', '__rpow__', '__rrshift__', '__rshift__', '__rsub__', '__rtruediv__', '__rxor__', '__setattr__', '__setitem__', '__setstate__', '__sizeof__', '__str__', '__sub__', '__subclasshook__', '__truediv__', '__xor__', 'all', 'any', 'argmax', 'argmin', 'argpartition', 'argsort', 'astype', 'base', 'byteswap', 'choose', 'clip', 'compress', 'conj', 'conjugate', 'copy', 'ctypes', 'cumprod', 'cumsum', 'data', 'diagonal', 'dot', 'dtype', 'dump', 'dumps', 'fill', 'flags', 'flat', 'flatten', 'getfield', 'imag', 'item', 'itemset', 'itemsize', 'max', 'mean', 'min', 'nbytes', 'ndim', 'newbyteorder', 'nonzero', 'partition', 'prod', 'ptp', 'put', 'ravel', 'real', 'repeat', 'reshape', 'resize', 'round', 'searchsorted', 'setfield', 'setflags', 'shape', 'size', 'sort', 'squeeze', 'std', 'strides', 'sum', 'swapaxes', 'take', 'tobytes', 'tofile', 'tolist', 'tostring', 'trace', 'transpose', 'var', 'view']\n"
     ]
    }
   ],
   "source": [
    "import numpy as np\n",
    "import matplotlib.pyplot as plt\n",
    "\n",
    "np.random.seed(337)\n",
    "\n",
    "num_samples = 1000\n",
    "x = np.random.normal(0.0, 1.0, (num_samples,))\n",
    "\n",
    "plt.hist(x, bins=20)\n",
    "plt.show()\n",
    "\n",
    "print(dir(x))"
   ]
  },
  {
   "cell_type": "markdown",
   "metadata": {},
   "source": [
    "# np.sum and its method"
   ]
  },
  {
   "cell_type": "code",
   "execution_count": 2,
   "metadata": {},
   "outputs": [
    {
     "name": "stdout",
     "output_type": "stream",
     "text": [
      "[[-0.44670457  0.38671228 -0.6046761 ]\n",
      " [ 0.09101661 -1.53086331  0.25708252]]\n",
      "\n",
      "-1.8474325736846255\n",
      "-1.8474325736846255\n"
     ]
    }
   ],
   "source": [
    "import numpy as np\n",
    "\n",
    "np.random.seed(337)\n",
    "\n",
    "x = np.random.normal(0.0, 1.0, (2,3))\n",
    "print(x)\n",
    "print()\n",
    "\n",
    "print(np.sum(x))\n",
    "print(x.sum())"
   ]
  },
  {
   "cell_type": "markdown",
   "metadata": {},
   "source": [
    "$$\\mbox{np.sum(x, axis=0)}=\\sum_{i} x_{ij}$$"
   ]
  },
  {
   "cell_type": "code",
   "execution_count": 3,
   "metadata": {},
   "outputs": [
    {
     "name": "stdout",
     "output_type": "stream",
     "text": [
      "[[-0.44670457  0.38671228 -0.6046761 ]\n",
      " [ 0.09101661 -1.53086331  0.25708252]]\n",
      "\n",
      "[-0.35568796 -1.14415103 -0.34759358]\n",
      "[-0.35568796 -1.14415103 -0.34759358]\n"
     ]
    }
   ],
   "source": [
    "import numpy as np\n",
    "\n",
    "np.random.seed(337)\n",
    "\n",
    "x = np.random.normal(0.0, 1.0, (2,3))\n",
    "print(x)\n",
    "print()\n",
    "\n",
    "print(np.sum(x, axis=0))\n",
    "print(x.sum(axis=0))"
   ]
  },
  {
   "cell_type": "markdown",
   "metadata": {},
   "source": [
    "$$\\mbox{np.sum(x, axis=1)}=\\sum_{j} x_{ij}$$"
   ]
  },
  {
   "cell_type": "code",
   "execution_count": 4,
   "metadata": {},
   "outputs": [
    {
     "name": "stdout",
     "output_type": "stream",
     "text": [
      "[[-0.44670457  0.38671228 -0.6046761 ]\n",
      " [ 0.09101661 -1.53086331  0.25708252]]\n",
      "\n",
      "[-0.66466839 -1.18276418]\n",
      "[-0.66466839 -1.18276418]\n"
     ]
    }
   ],
   "source": [
    "import numpy as np\n",
    "\n",
    "np.random.seed(337)\n",
    "\n",
    "x = np.random.normal(0.0, 1.0, (2,3))\n",
    "print(x)\n",
    "print()\n",
    "\n",
    "print(np.sum(x, axis=1))\n",
    "print(x.sum(axis=1))"
   ]
  },
  {
   "cell_type": "markdown",
   "metadata": {},
   "source": [
    "# np.sum, np.cumsum, and their methods"
   ]
  },
  {
   "cell_type": "code",
   "execution_count": 5,
   "metadata": {},
   "outputs": [
    {
     "name": "stdout",
     "output_type": "stream",
     "text": [
      "[1 2 3 4 5 6 7 8 9]\n",
      "\n",
      "45\n",
      "45\n",
      "\n",
      "[ 1  3  6 10 15 21 28 36 45]\n",
      "[ 1  3  6 10 15 21 28 36 45]\n"
     ]
    }
   ],
   "source": [
    "import numpy as np\n",
    "\n",
    "x = np.arange(1, 10)\n",
    "print(x)\n",
    "print()\n",
    "\n",
    "print(np.sum(x))\n",
    "print(x.sum())\n",
    "print()\n",
    "\n",
    "print(np.cumsum(x))\n",
    "print(x.cumsum())"
   ]
  },
  {
   "cell_type": "markdown",
   "metadata": {},
   "source": [
    "# np.mean, np.std, np.var, and their and methods"
   ]
  },
  {
   "cell_type": "code",
   "execution_count": 6,
   "metadata": {},
   "outputs": [
    {
     "name": "stdout",
     "output_type": "stream",
     "text": [
      "0.001030614983115572\n",
      "0.001030614983115572\n",
      "0.001030614983115572\n",
      "\n",
      "1.0098861736533509\n",
      "1.0098861736533509\n",
      "1.0098861736533509\n",
      "\n",
      "1.019870083736206\n",
      "1.019870083736206\n",
      "1.019870083736206\n",
      "\n"
     ]
    }
   ],
   "source": [
    "import numpy as np\n",
    "\n",
    "np.random.seed(337)\n",
    "\n",
    "num_samples = 1000\n",
    "x = np.random.normal(0.0, 1.0, (num_samples,))\n",
    "x_bar = x.sum() / len(x)\n",
    "\n",
    "print(np.mean(x))\n",
    "print(x.mean())\n",
    "print(x.sum() / len(x))\n",
    "print()\n",
    "\n",
    "print(np.std(x))\n",
    "print(x.std())\n",
    "print(np.sqrt( ((x - x_bar)**2).sum() / len(x) ))\n",
    "print()\n",
    "\n",
    "print(np.var(x))\n",
    "print(x.var())\n",
    "print(((x - x_bar)**2).sum() / len(x) )\n",
    "print()"
   ]
  },
  {
   "cell_type": "markdown",
   "metadata": {
    "collapsed": true
   },
   "source": [
    "# np.max, np.min, and their methods"
   ]
  },
  {
   "cell_type": "code",
   "execution_count": 13,
   "metadata": {},
   "outputs": [
    {
     "name": "stdout",
     "output_type": "stream",
     "text": [
      "[[-0.44670457  0.38671228 -0.6046761 ]\n",
      " [ 0.09101661 -1.53086331  0.25708252]]\n",
      "\n",
      "0.3867122763249754\n",
      "0.3867122763249754\n",
      "\n",
      "[0.09101661 0.38671228 0.25708252]\n",
      "[0.09101661 0.38671228 0.25708252]\n",
      "\n",
      "[0.38671228 0.25708252]\n",
      "[0.38671228 0.25708252]\n"
     ]
    }
   ],
   "source": [
    "import numpy as np\n",
    "\n",
    "np.random.seed(337)\n",
    "\n",
    "x = np.random.normal(0.0, 1.0, (2, 3))\n",
    "\n",
    "print(x)\n",
    "print()\n",
    "\n",
    "print(np.max(x))\n",
    "print(x.max())\n",
    "print()\n",
    "\n",
    "print(np.max(x, axis=0))\n",
    "print(x.max(axis=0))\n",
    "print()\n",
    "\n",
    "print(np.max(x, axis=1))\n",
    "print(x.max(axis=1))"
   ]
  },
  {
   "cell_type": "markdown",
   "metadata": {},
   "source": [
    "# Statistics Related Functions - Part 1"
   ]
  },
  {
   "cell_type": "markdown",
   "metadata": {},
   "source": [
    "$$\\begin{array}{lll}\n",
    "\\mbox{Skewness}(X)&=&\\displaystyle E\\left(\\frac{X-\\mu}{\\sigma}\\right)^3\\nonumber\\\\\n",
    "\\mbox{Kurtosis}(X)&=&\\displaystyle E\\left(\\frac{X-\\mu}{\\sigma}\\right)^4\\nonumber\\\\\n",
    "\\mbox{Excess_Kurtosis}(X)&=&\\displaystyle \\mbox{Kurtosis}(X)-3\\nonumber\\\\\n",
    "\\end{array}$$"
   ]
  },
  {
   "cell_type": "code",
   "execution_count": 8,
   "metadata": {},
   "outputs": [
    {
     "name": "stdout",
     "output_type": "stream",
     "text": [
      "Minimum:             -2.9450522374408226\n",
      "Maximum:             4.21728875162863\n",
      "Mean:                0.011053965612267824\n",
      "Median:              0.01534684302208053\n",
      "Variance:            1.050025826957363\n",
      "Standard deviation:  1.0247076787832532\n",
      "Skewness:            0.1273097467970913\n",
      "Kurtosis:            0.1629961520393004\n"
     ]
    }
   ],
   "source": [
    "import numpy as np\n",
    "import scipy.stats as st\n",
    "\n",
    "x = np.random.normal(0, 1, (1000,)) \n",
    "\n",
    "# kurtosis is normalized so that it is zero for the normal distribution\n",
    "# Excess_Kurtosis(X) = Kurtosis(X) − 3\n",
    "print(\"Minimum:            \", np.min(x))\n",
    "print(\"Maximum:            \", np.max(x))\n",
    "print(\"Mean:               \", np.mean(x))\n",
    "print(\"Median:             \", np.median(x))\n",
    "print(\"Variance:           \", np.var(x)) # population variance\n",
    "print(\"Standard deviation: \", np.std(x))\n",
    "print(\"Skewness:           \", st.skew(x))\n",
    "print(\"Kurtosis:           \", st.kurtosis(x)) # Excess_Kurtosis(X)"
   ]
  },
  {
   "cell_type": "code",
   "execution_count": 9,
   "metadata": {},
   "outputs": [
    {
     "name": "stdout",
     "output_type": "stream",
     "text": [
      "Number of samples:   1000\n",
      "Minimum of samples:  0.0005804008069623112\n",
      "Maximum of samples:  0.9997481745176429\n",
      "Mean:                0.4981363378388853\n",
      "Variance:            0.08443122552879412\n",
      "Skewness:            -0.006487646655780484\n",
      "Kurtosis:            -1.193915915385307\n"
     ]
    }
   ],
   "source": [
    "import numpy as np\n",
    "import scipy.stats as st\n",
    "\n",
    "x = np.random.uniform(0, 1, (1000,))\n",
    "\n",
    "# kurtosis is normalized so that it is zero for the normal distribution\n",
    "# Excess_Kurtosis(X) = Kurtosis(X) − 3 \n",
    "n, min_max, mean, var, skew, kurt = st.describe(x)\n",
    "print(\"Number of samples:  \", n)\n",
    "print(\"Minimum of samples: \", min_max[0])\n",
    "print(\"Maximum of samples: \", min_max[1])\n",
    "print(\"Mean:               \", mean)\n",
    "print(\"Variance:           \", var) # population variance\n",
    "print(\"Skewness:           \", skew)\n",
    "print(\"Kurtosis:           \", kurt) # Excess_Kurtosis(X)"
   ]
  },
  {
   "cell_type": "markdown",
   "metadata": {},
   "source": [
    "# Statistics Related Functions - Part 2"
   ]
  },
  {
   "cell_type": "code",
   "execution_count": 16,
   "metadata": {},
   "outputs": [
    {
     "name": "stdout",
     "output_type": "stream",
     "text": [
      "[[0.0690471  0.07046207 0.14386933]\n",
      " [0.07046207 0.15336778 0.23132624]\n",
      " [0.14386933 0.23132624 0.4800796 ]]\n",
      "\n",
      "[[1.         0.6847241  0.79020332]\n",
      " [0.6847241  1.         0.8525134 ]\n",
      " [0.79020332 0.8525134  1.        ]]\n",
      "\n",
      "0.06904710366906078\n",
      "0.06835663263237017\n",
      "\n",
      "0.06904710366906078\n",
      "0.06835663263237017\n"
     ]
    }
   ],
   "source": [
    "import numpy as np\n",
    "\n",
    "np.random.seed(337)\n",
    "\n",
    "n = 100\n",
    "x = np.random.uniform(0, 1, (1, n))\n",
    "y = x + np.random.uniform(0, 1, (1, n))\n",
    "z = x + y + np.random.uniform(0, 1, (1, n))\n",
    "X = np.vstack([x,y,z])\n",
    "\n",
    "# covariance\n",
    "# https://docs.scipy.org/doc/numpy-1.15.0/reference/generated/numpy.cov.html\n",
    "print(np.cov(X)) # sample covariance\n",
    "print()\n",
    "\n",
    "# correlation coefficient\n",
    "print(np.corrcoef(X))\n",
    "print()\n",
    "\n",
    "# variance\n",
    "print(np.cov(x)) # sample variance\n",
    "print(np.var(x)) # population variance\n",
    "print()\n",
    "\n",
    "print(np.sum((x-(np.sum(x)/n))**2)/(n-1)) # sample variance\n",
    "print(np.sum((x-(np.sum(x)/n))**2)/n) # population variance"
   ]
  },
  {
   "cell_type": "code",
   "execution_count": null,
   "metadata": {},
   "outputs": [],
   "source": []
  }
 ],
 "metadata": {
  "kernelspec": {
   "display_name": "Python 3",
   "language": "python",
   "name": "python3"
  },
  "language_info": {
   "codemirror_mode": {
    "name": "ipython",
    "version": 3
   },
   "file_extension": ".py",
   "mimetype": "text/x-python",
   "name": "python",
   "nbconvert_exporter": "python",
   "pygments_lexer": "ipython3",
   "version": "3.5.0"
  }
 },
 "nbformat": 4,
 "nbformat_minor": 2
}
